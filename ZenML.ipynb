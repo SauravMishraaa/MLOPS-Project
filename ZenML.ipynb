{
  "nbformat": 4,
  "nbformat_minor": 0,
  "metadata": {
    "colab": {
      "provenance": []
    },
    "kernelspec": {
      "name": "python3",
      "display_name": "Python 3"
    },
    "language_info": {
      "name": "python"
    }
  },
  "cells": [
    {
      "cell_type": "code",
      "source": [
        "!pip install boto3"
      ],
      "metadata": {
        "colab": {
          "base_uri": "https://localhost:8080/"
        },
        "id": "nLi32njDKqwq",
        "outputId": "48ed0525-3b03-4065-8f71-0875b55f07d8"
      },
      "execution_count": 1,
      "outputs": [
        {
          "output_type": "stream",
          "name": "stdout",
          "text": [
            "Collecting boto3\n",
            "  Downloading boto3-1.34.2-py3-none-any.whl (139 kB)\n",
            "\u001b[2K     \u001b[90m━━━━━━━━━━━━━━━━━━━━━━━━━━━━━━━━━━━━━━━━\u001b[0m \u001b[32m139.3/139.3 kB\u001b[0m \u001b[31m2.5 MB/s\u001b[0m eta \u001b[36m0:00:00\u001b[0m\n",
            "\u001b[?25hCollecting botocore<1.35.0,>=1.34.2 (from boto3)\n",
            "  Downloading botocore-1.34.2-py3-none-any.whl (11.8 MB)\n",
            "\u001b[2K     \u001b[90m━━━━━━━━━━━━━━━━━━━━━━━━━━━━━━━━━━━━━━━━\u001b[0m \u001b[32m11.8/11.8 MB\u001b[0m \u001b[31m44.4 MB/s\u001b[0m eta \u001b[36m0:00:00\u001b[0m\n",
            "\u001b[?25hCollecting jmespath<2.0.0,>=0.7.1 (from boto3)\n",
            "  Downloading jmespath-1.0.1-py3-none-any.whl (20 kB)\n",
            "Collecting s3transfer<0.10.0,>=0.9.0 (from boto3)\n",
            "  Downloading s3transfer-0.9.0-py3-none-any.whl (82 kB)\n",
            "\u001b[2K     \u001b[90m━━━━━━━━━━━━━━━━━━━━━━━━━━━━━━━━━━━━━━━━\u001b[0m \u001b[32m82.0/82.0 kB\u001b[0m \u001b[31m9.3 MB/s\u001b[0m eta \u001b[36m0:00:00\u001b[0m\n",
            "\u001b[?25hRequirement already satisfied: python-dateutil<3.0.0,>=2.1 in /usr/local/lib/python3.10/dist-packages (from botocore<1.35.0,>=1.34.2->boto3) (2.8.2)\n",
            "Requirement already satisfied: urllib3<2.1,>=1.25.4 in /usr/local/lib/python3.10/dist-packages (from botocore<1.35.0,>=1.34.2->boto3) (2.0.7)\n",
            "Requirement already satisfied: six>=1.5 in /usr/local/lib/python3.10/dist-packages (from python-dateutil<3.0.0,>=2.1->botocore<1.35.0,>=1.34.2->boto3) (1.16.0)\n",
            "Installing collected packages: jmespath, botocore, s3transfer, boto3\n",
            "Successfully installed boto3-1.34.2 botocore-1.34.2 jmespath-1.0.1 s3transfer-0.9.0\n"
          ]
        }
      ]
    },
    {
      "cell_type": "code",
      "execution_count": 2,
      "metadata": {
        "colab": {
          "base_uri": "https://localhost:8080/",
          "height": 1000
        },
        "id": "CR_HrRI1Dy3_",
        "outputId": "95d87816-7302-4d3a-f46e-2eb5a5298bba"
      },
      "outputs": [
        {
          "output_type": "stream",
          "name": "stdout",
          "text": [
            "Collecting zenml[server]\n",
            "  Downloading zenml-0.52.0-py3-none-any.whl (6.2 MB)\n",
            "\u001b[2K     \u001b[90m━━━━━━━━━━━━━━━━━━━━━━━━━━━━━━━━━━━━━━━━\u001b[0m \u001b[32m6.2/6.2 MB\u001b[0m \u001b[31m11.9 MB/s\u001b[0m eta \u001b[36m0:00:00\u001b[0m\n",
            "\u001b[?25hCollecting alembic<1.9.0,>=1.8.1 (from zenml[server])\n",
            "  Downloading alembic-1.8.1-py3-none-any.whl (209 kB)\n",
            "\u001b[2K     \u001b[90m━━━━━━━━━━━━━━━━━━━━━━━━━━━━━━━━━━━━━━━━\u001b[0m \u001b[32m209.8/209.8 kB\u001b[0m \u001b[31m19.3 MB/s\u001b[0m eta \u001b[36m0:00:00\u001b[0m\n",
            "\u001b[?25hCollecting azure-mgmt-resource>=21.0.0 (from zenml[server])\n",
            "  Downloading azure_mgmt_resource-23.0.1-py3-none-any.whl (2.5 MB)\n",
            "\u001b[2K     \u001b[90m━━━━━━━━━━━━━━━━━━━━━━━━━━━━━━━━━━━━━━━━\u001b[0m \u001b[32m2.5/2.5 MB\u001b[0m \u001b[31m25.1 MB/s\u001b[0m eta \u001b[36m0:00:00\u001b[0m\n",
            "\u001b[?25hCollecting bcrypt==4.0.1 (from zenml[server])\n",
            "  Downloading bcrypt-4.0.1-cp36-abi3-manylinux_2_28_x86_64.whl (593 kB)\n",
            "\u001b[2K     \u001b[90m━━━━━━━━━━━━━━━━━━━━━━━━━━━━━━━━━━━━━━━━\u001b[0m \u001b[32m593.7/593.7 kB\u001b[0m \u001b[31m33.0 MB/s\u001b[0m eta \u001b[36m0:00:00\u001b[0m\n",
            "\u001b[?25hCollecting click<8.1.4,>=8.0.1 (from zenml[server])\n",
            "  Downloading click-8.1.3-py3-none-any.whl (96 kB)\n",
            "\u001b[2K     \u001b[90m━━━━━━━━━━━━━━━━━━━━━━━━━━━━━━━━━━━━━━━━\u001b[0m \u001b[32m96.6/96.6 kB\u001b[0m \u001b[31m11.0 MB/s\u001b[0m eta \u001b[36m0:00:00\u001b[0m\n",
            "\u001b[?25hCollecting click-params<0.4.0,>=0.3.0 (from zenml[server])\n",
            "  Downloading click_params-0.3.0-py3-none-any.whl (12 kB)\n",
            "Requirement already satisfied: cloudpickle<3,>=2.0.0 in /usr/local/lib/python3.10/dist-packages (from zenml[server]) (2.2.1)\n",
            "Requirement already satisfied: distro<2.0.0,>=1.6.0 in /usr/lib/python3/dist-packages (from zenml[server]) (1.7.0)\n",
            "Collecting docker<6.2.0,>=6.1.0 (from zenml[server])\n",
            "  Downloading docker-6.1.3-py3-none-any.whl (148 kB)\n",
            "\u001b[2K     \u001b[90m━━━━━━━━━━━━━━━━━━━━━━━━━━━━━━━━━━━━━━━━\u001b[0m \u001b[32m148.1/148.1 kB\u001b[0m \u001b[31m17.4 MB/s\u001b[0m eta \u001b[36m0:00:00\u001b[0m\n",
            "\u001b[?25hCollecting gitpython<4.0.0,>=3.1.18 (from zenml[server])\n",
            "  Downloading GitPython-3.1.40-py3-none-any.whl (190 kB)\n",
            "\u001b[2K     \u001b[90m━━━━━━━━━━━━━━━━━━━━━━━━━━━━━━━━━━━━━━━━\u001b[0m \u001b[32m190.6/190.6 kB\u001b[0m \u001b[31m21.1 MB/s\u001b[0m eta \u001b[36m0:00:00\u001b[0m\n",
            "\u001b[?25hCollecting httplib2<0.20,>=0.19.1 (from zenml[server])\n",
            "  Downloading httplib2-0.19.1-py3-none-any.whl (95 kB)\n",
            "\u001b[2K     \u001b[90m━━━━━━━━━━━━━━━━━━━━━━━━━━━━━━━━━━━━━━━━\u001b[0m \u001b[32m95.4/95.4 kB\u001b[0m \u001b[31m12.4 MB/s\u001b[0m eta \u001b[36m0:00:00\u001b[0m\n",
            "\u001b[?25hRequirement already satisfied: pandas>=1.1.5 in /usr/local/lib/python3.10/dist-packages (from zenml[server]) (1.5.3)\n",
            "Collecting passlib[bcrypt]<1.8.0,>=1.7.4 (from zenml[server])\n",
            "  Downloading passlib-1.7.4-py2.py3-none-any.whl (525 kB)\n",
            "\u001b[2K     \u001b[90m━━━━━━━━━━━━━━━━━━━━━━━━━━━━━━━━━━━━━━━━\u001b[0m \u001b[32m525.6/525.6 kB\u001b[0m \u001b[31m30.5 MB/s\u001b[0m eta \u001b[36m0:00:00\u001b[0m\n",
            "\u001b[?25hRequirement already satisfied: psutil>=5.0.0 in /usr/local/lib/python3.10/dist-packages (from zenml[server]) (5.9.5)\n",
            "Requirement already satisfied: pydantic<1.11,>=1.9.0 in /usr/local/lib/python3.10/dist-packages (from zenml[server]) (1.10.13)\n",
            "Collecting pymysql<1.1.0,>=1.0.2 (from zenml[server])\n",
            "  Downloading PyMySQL-1.0.3-py3-none-any.whl (43 kB)\n",
            "\u001b[2K     \u001b[90m━━━━━━━━━━━━━━━━━━━━━━━━━━━━━━━━━━━━━━━━\u001b[0m \u001b[32m43.7/43.7 kB\u001b[0m \u001b[31m5.5 MB/s\u001b[0m eta \u001b[36m0:00:00\u001b[0m\n",
            "\u001b[?25hCollecting pyparsing<3,>=2.4.0 (from zenml[server])\n",
            "  Downloading pyparsing-2.4.7-py2.py3-none-any.whl (67 kB)\n",
            "\u001b[2K     \u001b[90m━━━━━━━━━━━━━━━━━━━━━━━━━━━━━━━━━━━━━━━━\u001b[0m \u001b[32m67.8/67.8 kB\u001b[0m \u001b[31m8.6 MB/s\u001b[0m eta \u001b[36m0:00:00\u001b[0m\n",
            "\u001b[?25hRequirement already satisfied: python-dateutil<3.0.0,>=2.8.1 in /usr/local/lib/python3.10/dist-packages (from zenml[server]) (2.8.2)\n",
            "Requirement already satisfied: pyyaml>=6.0.1 in /usr/local/lib/python3.10/dist-packages (from zenml[server]) (6.0.1)\n",
            "Requirement already satisfied: rich[jupyter]>=12.0.0 in /usr/local/lib/python3.10/dist-packages (from zenml[server]) (13.7.0)\n",
            "Collecting sqlalchemy_utils==0.38.3 (from zenml[server])\n",
            "  Downloading SQLAlchemy_Utils-0.38.3-py3-none-any.whl (100 kB)\n",
            "\u001b[2K     \u001b[90m━━━━━━━━━━━━━━━━━━━━━━━━━━━━━━━━━━━━━━━━\u001b[0m \u001b[32m100.3/100.3 kB\u001b[0m \u001b[31m12.3 MB/s\u001b[0m eta \u001b[36m0:00:00\u001b[0m\n",
            "\u001b[?25hCollecting sqlmodel==0.0.8 (from zenml[server])\n",
            "  Downloading sqlmodel-0.0.8-py3-none-any.whl (21 kB)\n",
            "Requirement already satisfied: Jinja2 in /usr/local/lib/python3.10/dist-packages (from zenml[server]) (3.1.2)\n",
            "Collecting fastapi<0.100,>=0.75 (from zenml[server])\n",
            "  Downloading fastapi-0.99.1-py3-none-any.whl (58 kB)\n",
            "\u001b[2K     \u001b[90m━━━━━━━━━━━━━━━━━━━━━━━━━━━━━━━━━━━━━━━━\u001b[0m \u001b[32m58.4/58.4 kB\u001b[0m \u001b[31m7.1 MB/s\u001b[0m eta \u001b[36m0:00:00\u001b[0m\n",
            "\u001b[?25hCollecting fastapi-utils<0.3.0,>=0.2.1 (from zenml[server])\n",
            "  Downloading fastapi_utils-0.2.1-py3-none-any.whl (16 kB)\n",
            "Collecting ipinfo>=4.4.3 (from zenml[server])\n",
            "  Downloading ipinfo-5.0.0-py3-none-any.whl (24 kB)\n",
            "Collecting orjson<3.9.0,>=3.8.3 (from zenml[server])\n",
            "  Downloading orjson-3.8.14-cp310-cp310-manylinux_2_17_x86_64.manylinux2014_x86_64.whl (136 kB)\n",
            "\u001b[2K     \u001b[90m━━━━━━━━━━━━━━━━━━━━━━━━━━━━━━━━━━━━━━━━\u001b[0m \u001b[32m136.6/136.6 kB\u001b[0m \u001b[31m14.4 MB/s\u001b[0m eta \u001b[36m0:00:00\u001b[0m\n",
            "\u001b[?25hCollecting pyjwt[crypto]==2.7.* (from zenml[server])\n",
            "  Downloading PyJWT-2.7.0-py3-none-any.whl (22 kB)\n",
            "Collecting python-multipart<0.1.0,>=0.0.5 (from zenml[server])\n",
            "  Downloading python_multipart-0.0.6-py3-none-any.whl (45 kB)\n",
            "\u001b[2K     \u001b[90m━━━━━━━━━━━━━━━━━━━━━━━━━━━━━━━━━━━━━━━━\u001b[0m \u001b[32m45.7/45.7 kB\u001b[0m \u001b[31m5.3 MB/s\u001b[0m eta \u001b[36m0:00:00\u001b[0m\n",
            "\u001b[?25hCollecting uvicorn[standard]>=0.17.5 (from zenml[server])\n",
            "  Downloading uvicorn-0.24.0.post1-py3-none-any.whl (59 kB)\n",
            "\u001b[2K     \u001b[90m━━━━━━━━━━━━━━━━━━━━━━━━━━━━━━━━━━━━━━━━\u001b[0m \u001b[32m59.7/59.7 kB\u001b[0m \u001b[31m5.9 MB/s\u001b[0m eta \u001b[36m0:00:00\u001b[0m\n",
            "\u001b[?25hRequirement already satisfied: cryptography>=3.4.0 in /usr/local/lib/python3.10/dist-packages (from pyjwt[crypto]==2.7.*->zenml[server]) (41.0.7)\n",
            "Requirement already satisfied: SQLAlchemy>=1.3 in /usr/local/lib/python3.10/dist-packages (from sqlalchemy_utils==0.38.3->zenml[server]) (2.0.23)\n",
            "Collecting SQLAlchemy>=1.3 (from sqlalchemy_utils==0.38.3->zenml[server])\n",
            "  Downloading SQLAlchemy-1.4.41-cp310-cp310-manylinux_2_5_x86_64.manylinux1_x86_64.manylinux_2_17_x86_64.manylinux2014_x86_64.whl (1.6 MB)\n",
            "\u001b[2K     \u001b[90m━━━━━━━━━━━━━━━━━━━━━━━━━━━━━━━━━━━━━━━━\u001b[0m \u001b[32m1.6/1.6 MB\u001b[0m \u001b[31m30.3 MB/s\u001b[0m eta \u001b[36m0:00:00\u001b[0m\n",
            "\u001b[?25hCollecting sqlalchemy2-stubs (from sqlmodel==0.0.8->zenml[server])\n",
            "  Downloading sqlalchemy2_stubs-0.0.2a37-py3-none-any.whl (191 kB)\n",
            "\u001b[2K     \u001b[90m━━━━━━━━━━━━━━━━━━━━━━━━━━━━━━━━━━━━━━━━\u001b[0m \u001b[32m191.7/191.7 kB\u001b[0m \u001b[31m20.8 MB/s\u001b[0m eta \u001b[36m0:00:00\u001b[0m\n",
            "\u001b[?25hCollecting Mako (from alembic<1.9.0,>=1.8.1->zenml[server])\n",
            "  Downloading Mako-1.3.0-py3-none-any.whl (78 kB)\n",
            "\u001b[2K     \u001b[90m━━━━━━━━━━━━━━━━━━━━━━━━━━━━━━━━━━━━━━━━\u001b[0m \u001b[32m78.6/78.6 kB\u001b[0m \u001b[31m10.0 MB/s\u001b[0m eta \u001b[36m0:00:00\u001b[0m\n",
            "\u001b[?25hCollecting isodate<1.0.0,>=0.6.1 (from azure-mgmt-resource>=21.0.0->zenml[server])\n",
            "  Downloading isodate-0.6.1-py2.py3-none-any.whl (41 kB)\n",
            "\u001b[2K     \u001b[90m━━━━━━━━━━━━━━━━━━━━━━━━━━━━━━━━━━━━━━━━\u001b[0m \u001b[32m41.7/41.7 kB\u001b[0m \u001b[31m3.5 MB/s\u001b[0m eta \u001b[36m0:00:00\u001b[0m\n",
            "\u001b[?25hCollecting azure-common~=1.1 (from azure-mgmt-resource>=21.0.0->zenml[server])\n",
            "  Downloading azure_common-1.1.28-py2.py3-none-any.whl (14 kB)\n",
            "Collecting azure-mgmt-core<2.0.0,>=1.3.2 (from azure-mgmt-resource>=21.0.0->zenml[server])\n",
            "  Downloading azure_mgmt_core-1.4.0-py3-none-any.whl (27 kB)\n",
            "Collecting validators<0.19,>=0.18 (from click-params<0.4.0,>=0.3.0->zenml[server])\n",
            "  Downloading validators-0.18.2-py3-none-any.whl (19 kB)\n",
            "Requirement already satisfied: packaging>=14.0 in /usr/local/lib/python3.10/dist-packages (from docker<6.2.0,>=6.1.0->zenml[server]) (23.2)\n",
            "Requirement already satisfied: requests>=2.26.0 in /usr/local/lib/python3.10/dist-packages (from docker<6.2.0,>=6.1.0->zenml[server]) (2.31.0)\n",
            "Requirement already satisfied: urllib3>=1.26.0 in /usr/local/lib/python3.10/dist-packages (from docker<6.2.0,>=6.1.0->zenml[server]) (2.0.7)\n",
            "Requirement already satisfied: websocket-client>=0.32.0 in /usr/local/lib/python3.10/dist-packages (from docker<6.2.0,>=6.1.0->zenml[server]) (1.7.0)\n",
            "Collecting starlette<0.28.0,>=0.27.0 (from fastapi<0.100,>=0.75->zenml[server])\n",
            "  Downloading starlette-0.27.0-py3-none-any.whl (66 kB)\n",
            "\u001b[2K     \u001b[90m━━━━━━━━━━━━━━━━━━━━━━━━━━━━━━━━━━━━━━━━\u001b[0m \u001b[32m67.0/67.0 kB\u001b[0m \u001b[31m9.0 MB/s\u001b[0m eta \u001b[36m0:00:00\u001b[0m\n",
            "\u001b[?25hRequirement already satisfied: typing-extensions>=4.5.0 in /usr/local/lib/python3.10/dist-packages (from fastapi<0.100,>=0.75->zenml[server]) (4.5.0)\n",
            "Collecting gitdb<5,>=4.0.1 (from gitpython<4.0.0,>=3.1.18->zenml[server])\n",
            "  Downloading gitdb-4.0.11-py3-none-any.whl (62 kB)\n",
            "\u001b[2K     \u001b[90m━━━━━━━━━━━━━━━━━━━━━━━━━━━━━━━━━━━━━━━━\u001b[0m \u001b[32m62.7/62.7 kB\u001b[0m \u001b[31m7.4 MB/s\u001b[0m eta \u001b[36m0:00:00\u001b[0m\n",
            "\u001b[?25hRequirement already satisfied: cachetools in /usr/local/lib/python3.10/dist-packages (from ipinfo>=4.4.3->zenml[server]) (5.3.2)\n",
            "Requirement already satisfied: aiohttp<=4 in /usr/local/lib/python3.10/dist-packages (from ipinfo>=4.4.3->zenml[server]) (3.9.1)\n",
            "Requirement already satisfied: pytz>=2020.1 in /usr/local/lib/python3.10/dist-packages (from pandas>=1.1.5->zenml[server]) (2023.3.post1)\n",
            "Requirement already satisfied: numpy>=1.21.0 in /usr/local/lib/python3.10/dist-packages (from pandas>=1.1.5->zenml[server]) (1.23.5)\n",
            "Requirement already satisfied: six>=1.5 in /usr/local/lib/python3.10/dist-packages (from python-dateutil<3.0.0,>=2.8.1->zenml[server]) (1.16.0)\n",
            "Requirement already satisfied: markdown-it-py>=2.2.0 in /usr/local/lib/python3.10/dist-packages (from rich[jupyter]>=12.0.0->zenml[server]) (3.0.0)\n",
            "Requirement already satisfied: pygments<3.0.0,>=2.13.0 in /usr/local/lib/python3.10/dist-packages (from rich[jupyter]>=12.0.0->zenml[server]) (2.16.1)\n",
            "Requirement already satisfied: ipywidgets<9,>=7.5.1 in /usr/local/lib/python3.10/dist-packages (from rich[jupyter]>=12.0.0->zenml[server]) (7.7.1)\n",
            "Collecting h11>=0.8 (from uvicorn[standard]>=0.17.5->zenml[server])\n",
            "  Downloading h11-0.14.0-py3-none-any.whl (58 kB)\n",
            "\u001b[2K     \u001b[90m━━━━━━━━━━━━━━━━━━━━━━━━━━━━━━━━━━━━━━━━\u001b[0m \u001b[32m58.3/58.3 kB\u001b[0m \u001b[31m7.0 MB/s\u001b[0m eta \u001b[36m0:00:00\u001b[0m\n",
            "\u001b[?25hCollecting httptools>=0.5.0 (from uvicorn[standard]>=0.17.5->zenml[server])\n",
            "  Downloading httptools-0.6.1-cp310-cp310-manylinux_2_5_x86_64.manylinux1_x86_64.manylinux_2_17_x86_64.manylinux2014_x86_64.whl (341 kB)\n",
            "\u001b[2K     \u001b[90m━━━━━━━━━━━━━━━━━━━━━━━━━━━━━━━━━━━━━━━━\u001b[0m \u001b[32m341.4/341.4 kB\u001b[0m \u001b[31m32.8 MB/s\u001b[0m eta \u001b[36m0:00:00\u001b[0m\n",
            "\u001b[?25hCollecting python-dotenv>=0.13 (from uvicorn[standard]>=0.17.5->zenml[server])\n",
            "  Downloading python_dotenv-1.0.0-py3-none-any.whl (19 kB)\n",
            "Collecting uvloop!=0.15.0,!=0.15.1,>=0.14.0 (from uvicorn[standard]>=0.17.5->zenml[server])\n",
            "  Downloading uvloop-0.19.0-cp310-cp310-manylinux_2_17_x86_64.manylinux2014_x86_64.whl (3.4 MB)\n",
            "\u001b[2K     \u001b[90m━━━━━━━━━━━━━━━━━━━━━━━━━━━━━━━━━━━━━━━━\u001b[0m \u001b[32m3.4/3.4 MB\u001b[0m \u001b[31m36.4 MB/s\u001b[0m eta \u001b[36m0:00:00\u001b[0m\n",
            "\u001b[?25hCollecting watchfiles>=0.13 (from uvicorn[standard]>=0.17.5->zenml[server])\n",
            "  Downloading watchfiles-0.21.0-cp310-cp310-manylinux_2_17_x86_64.manylinux2014_x86_64.whl (1.3 MB)\n",
            "\u001b[2K     \u001b[90m━━━━━━━━━━━━━━━━━━━━━━━━━━━━━━━━━━━━━━━━\u001b[0m \u001b[32m1.3/1.3 MB\u001b[0m \u001b[31m35.9 MB/s\u001b[0m eta \u001b[36m0:00:00\u001b[0m\n",
            "\u001b[?25hCollecting websockets>=10.4 (from uvicorn[standard]>=0.17.5->zenml[server])\n",
            "  Downloading websockets-12.0-cp310-cp310-manylinux_2_5_x86_64.manylinux1_x86_64.manylinux_2_17_x86_64.manylinux2014_x86_64.whl (130 kB)\n",
            "\u001b[2K     \u001b[90m━━━━━━━━━━━━━━━━━━━━━━━━━━━━━━━━━━━━━━━━\u001b[0m \u001b[32m130.2/130.2 kB\u001b[0m \u001b[31m15.2 MB/s\u001b[0m eta \u001b[36m0:00:00\u001b[0m\n",
            "\u001b[?25hRequirement already satisfied: MarkupSafe>=2.0 in /usr/local/lib/python3.10/dist-packages (from Jinja2->zenml[server]) (2.1.3)\n",
            "Requirement already satisfied: attrs>=17.3.0 in /usr/local/lib/python3.10/dist-packages (from aiohttp<=4->ipinfo>=4.4.3->zenml[server]) (23.1.0)\n",
            "Requirement already satisfied: multidict<7.0,>=4.5 in /usr/local/lib/python3.10/dist-packages (from aiohttp<=4->ipinfo>=4.4.3->zenml[server]) (6.0.4)\n",
            "Requirement already satisfied: yarl<2.0,>=1.0 in /usr/local/lib/python3.10/dist-packages (from aiohttp<=4->ipinfo>=4.4.3->zenml[server]) (1.9.4)\n",
            "Requirement already satisfied: frozenlist>=1.1.1 in /usr/local/lib/python3.10/dist-packages (from aiohttp<=4->ipinfo>=4.4.3->zenml[server]) (1.4.0)\n",
            "Requirement already satisfied: aiosignal>=1.1.2 in /usr/local/lib/python3.10/dist-packages (from aiohttp<=4->ipinfo>=4.4.3->zenml[server]) (1.3.1)\n",
            "Requirement already satisfied: async-timeout<5.0,>=4.0 in /usr/local/lib/python3.10/dist-packages (from aiohttp<=4->ipinfo>=4.4.3->zenml[server]) (4.0.3)\n",
            "Collecting azure-core<2.0.0,>=1.26.2 (from azure-mgmt-core<2.0.0,>=1.3.2->azure-mgmt-resource>=21.0.0->zenml[server])\n",
            "  Downloading azure_core-1.29.6-py3-none-any.whl (192 kB)\n",
            "\u001b[2K     \u001b[90m━━━━━━━━━━━━━━━━━━━━━━━━━━━━━━━━━━━━━━━━\u001b[0m \u001b[32m192.5/192.5 kB\u001b[0m \u001b[31m18.3 MB/s\u001b[0m eta \u001b[36m0:00:00\u001b[0m\n",
            "\u001b[?25hRequirement already satisfied: cffi>=1.12 in /usr/local/lib/python3.10/dist-packages (from cryptography>=3.4.0->pyjwt[crypto]==2.7.*->zenml[server]) (1.16.0)\n",
            "Collecting smmap<6,>=3.0.1 (from gitdb<5,>=4.0.1->gitpython<4.0.0,>=3.1.18->zenml[server])\n",
            "  Downloading smmap-5.0.1-py3-none-any.whl (24 kB)\n",
            "Requirement already satisfied: ipykernel>=4.5.1 in /usr/local/lib/python3.10/dist-packages (from ipywidgets<9,>=7.5.1->rich[jupyter]>=12.0.0->zenml[server]) (5.5.6)\n",
            "Requirement already satisfied: ipython-genutils~=0.2.0 in /usr/local/lib/python3.10/dist-packages (from ipywidgets<9,>=7.5.1->rich[jupyter]>=12.0.0->zenml[server]) (0.2.0)\n",
            "Requirement already satisfied: traitlets>=4.3.1 in /usr/local/lib/python3.10/dist-packages (from ipywidgets<9,>=7.5.1->rich[jupyter]>=12.0.0->zenml[server]) (5.7.1)\n",
            "Requirement already satisfied: widgetsnbextension~=3.6.0 in /usr/local/lib/python3.10/dist-packages (from ipywidgets<9,>=7.5.1->rich[jupyter]>=12.0.0->zenml[server]) (3.6.6)\n",
            "Requirement already satisfied: ipython>=4.0.0 in /usr/local/lib/python3.10/dist-packages (from ipywidgets<9,>=7.5.1->rich[jupyter]>=12.0.0->zenml[server]) (7.34.0)\n",
            "Requirement already satisfied: jupyterlab-widgets>=1.0.0 in /usr/local/lib/python3.10/dist-packages (from ipywidgets<9,>=7.5.1->rich[jupyter]>=12.0.0->zenml[server]) (3.0.9)\n",
            "Requirement already satisfied: mdurl~=0.1 in /usr/local/lib/python3.10/dist-packages (from markdown-it-py>=2.2.0->rich[jupyter]>=12.0.0->zenml[server]) (0.1.2)\n",
            "Requirement already satisfied: charset-normalizer<4,>=2 in /usr/local/lib/python3.10/dist-packages (from requests>=2.26.0->docker<6.2.0,>=6.1.0->zenml[server]) (3.3.2)\n",
            "Requirement already satisfied: idna<4,>=2.5 in /usr/local/lib/python3.10/dist-packages (from requests>=2.26.0->docker<6.2.0,>=6.1.0->zenml[server]) (3.6)\n",
            "Requirement already satisfied: certifi>=2017.4.17 in /usr/local/lib/python3.10/dist-packages (from requests>=2.26.0->docker<6.2.0,>=6.1.0->zenml[server]) (2023.11.17)\n",
            "Requirement already satisfied: greenlet!=0.4.17 in /usr/local/lib/python3.10/dist-packages (from SQLAlchemy>=1.3->sqlalchemy_utils==0.38.3->zenml[server]) (3.0.2)\n",
            "Requirement already satisfied: anyio<5,>=3.4.0 in /usr/local/lib/python3.10/dist-packages (from starlette<0.28.0,>=0.27.0->fastapi<0.100,>=0.75->zenml[server]) (3.7.1)\n",
            "Requirement already satisfied: decorator>=3.4.0 in /usr/local/lib/python3.10/dist-packages (from validators<0.19,>=0.18->click-params<0.4.0,>=0.3.0->zenml[server]) (4.4.2)\n",
            "Requirement already satisfied: sniffio>=1.1 in /usr/local/lib/python3.10/dist-packages (from anyio<5,>=3.4.0->starlette<0.28.0,>=0.27.0->fastapi<0.100,>=0.75->zenml[server]) (1.3.0)\n",
            "Requirement already satisfied: exceptiongroup in /usr/local/lib/python3.10/dist-packages (from anyio<5,>=3.4.0->starlette<0.28.0,>=0.27.0->fastapi<0.100,>=0.75->zenml[server]) (1.2.0)\n",
            "Collecting typing-extensions>=4.5.0 (from fastapi<0.100,>=0.75->zenml[server])\n",
            "  Downloading typing_extensions-4.9.0-py3-none-any.whl (32 kB)\n",
            "Requirement already satisfied: pycparser in /usr/local/lib/python3.10/dist-packages (from cffi>=1.12->cryptography>=3.4.0->pyjwt[crypto]==2.7.*->zenml[server]) (2.21)\n",
            "Requirement already satisfied: jupyter-client in /usr/local/lib/python3.10/dist-packages (from ipykernel>=4.5.1->ipywidgets<9,>=7.5.1->rich[jupyter]>=12.0.0->zenml[server]) (6.1.12)\n",
            "Requirement already satisfied: tornado>=4.2 in /usr/local/lib/python3.10/dist-packages (from ipykernel>=4.5.1->ipywidgets<9,>=7.5.1->rich[jupyter]>=12.0.0->zenml[server]) (6.3.2)\n",
            "Requirement already satisfied: setuptools>=18.5 in /usr/local/lib/python3.10/dist-packages (from ipython>=4.0.0->ipywidgets<9,>=7.5.1->rich[jupyter]>=12.0.0->zenml[server]) (67.7.2)\n",
            "Collecting jedi>=0.16 (from ipython>=4.0.0->ipywidgets<9,>=7.5.1->rich[jupyter]>=12.0.0->zenml[server])\n",
            "  Downloading jedi-0.19.1-py2.py3-none-any.whl (1.6 MB)\n",
            "\u001b[2K     \u001b[90m━━━━━━━━━━━━━━━━━━━━━━━━━━━━━━━━━━━━━━━━\u001b[0m \u001b[32m1.6/1.6 MB\u001b[0m \u001b[31m27.8 MB/s\u001b[0m eta \u001b[36m0:00:00\u001b[0m\n",
            "\u001b[?25hRequirement already satisfied: pickleshare in /usr/local/lib/python3.10/dist-packages (from ipython>=4.0.0->ipywidgets<9,>=7.5.1->rich[jupyter]>=12.0.0->zenml[server]) (0.7.5)\n",
            "Requirement already satisfied: prompt-toolkit!=3.0.0,!=3.0.1,<3.1.0,>=2.0.0 in /usr/local/lib/python3.10/dist-packages (from ipython>=4.0.0->ipywidgets<9,>=7.5.1->rich[jupyter]>=12.0.0->zenml[server]) (3.0.43)\n",
            "Requirement already satisfied: backcall in /usr/local/lib/python3.10/dist-packages (from ipython>=4.0.0->ipywidgets<9,>=7.5.1->rich[jupyter]>=12.0.0->zenml[server]) (0.2.0)\n",
            "Requirement already satisfied: matplotlib-inline in /usr/local/lib/python3.10/dist-packages (from ipython>=4.0.0->ipywidgets<9,>=7.5.1->rich[jupyter]>=12.0.0->zenml[server]) (0.1.6)\n",
            "Requirement already satisfied: pexpect>4.3 in /usr/local/lib/python3.10/dist-packages (from ipython>=4.0.0->ipywidgets<9,>=7.5.1->rich[jupyter]>=12.0.0->zenml[server]) (4.9.0)\n",
            "Requirement already satisfied: notebook>=4.4.1 in /usr/local/lib/python3.10/dist-packages (from widgetsnbextension~=3.6.0->ipywidgets<9,>=7.5.1->rich[jupyter]>=12.0.0->zenml[server]) (6.5.5)\n",
            "Requirement already satisfied: parso<0.9.0,>=0.8.3 in /usr/local/lib/python3.10/dist-packages (from jedi>=0.16->ipython>=4.0.0->ipywidgets<9,>=7.5.1->rich[jupyter]>=12.0.0->zenml[server]) (0.8.3)\n",
            "Requirement already satisfied: pyzmq<25,>=17 in /usr/local/lib/python3.10/dist-packages (from notebook>=4.4.1->widgetsnbextension~=3.6.0->ipywidgets<9,>=7.5.1->rich[jupyter]>=12.0.0->zenml[server]) (23.2.1)\n",
            "Requirement already satisfied: argon2-cffi in /usr/local/lib/python3.10/dist-packages (from notebook>=4.4.1->widgetsnbextension~=3.6.0->ipywidgets<9,>=7.5.1->rich[jupyter]>=12.0.0->zenml[server]) (23.1.0)\n",
            "Requirement already satisfied: jupyter-core>=4.6.1 in /usr/local/lib/python3.10/dist-packages (from notebook>=4.4.1->widgetsnbextension~=3.6.0->ipywidgets<9,>=7.5.1->rich[jupyter]>=12.0.0->zenml[server]) (5.5.0)\n",
            "Requirement already satisfied: nbformat in /usr/local/lib/python3.10/dist-packages (from notebook>=4.4.1->widgetsnbextension~=3.6.0->ipywidgets<9,>=7.5.1->rich[jupyter]>=12.0.0->zenml[server]) (5.9.2)\n",
            "Requirement already satisfied: nbconvert>=5 in /usr/local/lib/python3.10/dist-packages (from notebook>=4.4.1->widgetsnbextension~=3.6.0->ipywidgets<9,>=7.5.1->rich[jupyter]>=12.0.0->zenml[server]) (6.5.4)\n",
            "Requirement already satisfied: nest-asyncio>=1.5 in /usr/local/lib/python3.10/dist-packages (from notebook>=4.4.1->widgetsnbextension~=3.6.0->ipywidgets<9,>=7.5.1->rich[jupyter]>=12.0.0->zenml[server]) (1.5.8)\n",
            "Requirement already satisfied: Send2Trash>=1.8.0 in /usr/local/lib/python3.10/dist-packages (from notebook>=4.4.1->widgetsnbextension~=3.6.0->ipywidgets<9,>=7.5.1->rich[jupyter]>=12.0.0->zenml[server]) (1.8.2)\n",
            "Requirement already satisfied: terminado>=0.8.3 in /usr/local/lib/python3.10/dist-packages (from notebook>=4.4.1->widgetsnbextension~=3.6.0->ipywidgets<9,>=7.5.1->rich[jupyter]>=12.0.0->zenml[server]) (0.18.0)\n",
            "Requirement already satisfied: prometheus-client in /usr/local/lib/python3.10/dist-packages (from notebook>=4.4.1->widgetsnbextension~=3.6.0->ipywidgets<9,>=7.5.1->rich[jupyter]>=12.0.0->zenml[server]) (0.19.0)\n",
            "Requirement already satisfied: nbclassic>=0.4.7 in /usr/local/lib/python3.10/dist-packages (from notebook>=4.4.1->widgetsnbextension~=3.6.0->ipywidgets<9,>=7.5.1->rich[jupyter]>=12.0.0->zenml[server]) (1.0.0)\n",
            "Requirement already satisfied: ptyprocess>=0.5 in /usr/local/lib/python3.10/dist-packages (from pexpect>4.3->ipython>=4.0.0->ipywidgets<9,>=7.5.1->rich[jupyter]>=12.0.0->zenml[server]) (0.7.0)\n",
            "Requirement already satisfied: wcwidth in /usr/local/lib/python3.10/dist-packages (from prompt-toolkit!=3.0.0,!=3.0.1,<3.1.0,>=2.0.0->ipython>=4.0.0->ipywidgets<9,>=7.5.1->rich[jupyter]>=12.0.0->zenml[server]) (0.2.12)\n",
            "Requirement already satisfied: platformdirs>=2.5 in /usr/local/lib/python3.10/dist-packages (from jupyter-core>=4.6.1->notebook>=4.4.1->widgetsnbextension~=3.6.0->ipywidgets<9,>=7.5.1->rich[jupyter]>=12.0.0->zenml[server]) (4.1.0)\n",
            "Requirement already satisfied: jupyter-server>=1.8 in /usr/local/lib/python3.10/dist-packages (from nbclassic>=0.4.7->notebook>=4.4.1->widgetsnbextension~=3.6.0->ipywidgets<9,>=7.5.1->rich[jupyter]>=12.0.0->zenml[server]) (1.24.0)\n",
            "Requirement already satisfied: notebook-shim>=0.2.3 in /usr/local/lib/python3.10/dist-packages (from nbclassic>=0.4.7->notebook>=4.4.1->widgetsnbextension~=3.6.0->ipywidgets<9,>=7.5.1->rich[jupyter]>=12.0.0->zenml[server]) (0.2.3)\n",
            "Requirement already satisfied: lxml in /usr/local/lib/python3.10/dist-packages (from nbconvert>=5->notebook>=4.4.1->widgetsnbextension~=3.6.0->ipywidgets<9,>=7.5.1->rich[jupyter]>=12.0.0->zenml[server]) (4.9.3)\n",
            "Requirement already satisfied: beautifulsoup4 in /usr/local/lib/python3.10/dist-packages (from nbconvert>=5->notebook>=4.4.1->widgetsnbextension~=3.6.0->ipywidgets<9,>=7.5.1->rich[jupyter]>=12.0.0->zenml[server]) (4.11.2)\n",
            "Requirement already satisfied: bleach in /usr/local/lib/python3.10/dist-packages (from nbconvert>=5->notebook>=4.4.1->widgetsnbextension~=3.6.0->ipywidgets<9,>=7.5.1->rich[jupyter]>=12.0.0->zenml[server]) (6.1.0)\n",
            "Requirement already satisfied: defusedxml in /usr/local/lib/python3.10/dist-packages (from nbconvert>=5->notebook>=4.4.1->widgetsnbextension~=3.6.0->ipywidgets<9,>=7.5.1->rich[jupyter]>=12.0.0->zenml[server]) (0.7.1)\n",
            "Requirement already satisfied: entrypoints>=0.2.2 in /usr/local/lib/python3.10/dist-packages (from nbconvert>=5->notebook>=4.4.1->widgetsnbextension~=3.6.0->ipywidgets<9,>=7.5.1->rich[jupyter]>=12.0.0->zenml[server]) (0.4)\n",
            "Requirement already satisfied: jupyterlab-pygments in /usr/local/lib/python3.10/dist-packages (from nbconvert>=5->notebook>=4.4.1->widgetsnbextension~=3.6.0->ipywidgets<9,>=7.5.1->rich[jupyter]>=12.0.0->zenml[server]) (0.3.0)\n",
            "Requirement already satisfied: mistune<2,>=0.8.1 in /usr/local/lib/python3.10/dist-packages (from nbconvert>=5->notebook>=4.4.1->widgetsnbextension~=3.6.0->ipywidgets<9,>=7.5.1->rich[jupyter]>=12.0.0->zenml[server]) (0.8.4)\n",
            "Requirement already satisfied: nbclient>=0.5.0 in /usr/local/lib/python3.10/dist-packages (from nbconvert>=5->notebook>=4.4.1->widgetsnbextension~=3.6.0->ipywidgets<9,>=7.5.1->rich[jupyter]>=12.0.0->zenml[server]) (0.9.0)\n",
            "Requirement already satisfied: pandocfilters>=1.4.1 in /usr/local/lib/python3.10/dist-packages (from nbconvert>=5->notebook>=4.4.1->widgetsnbextension~=3.6.0->ipywidgets<9,>=7.5.1->rich[jupyter]>=12.0.0->zenml[server]) (1.5.0)\n",
            "Requirement already satisfied: tinycss2 in /usr/local/lib/python3.10/dist-packages (from nbconvert>=5->notebook>=4.4.1->widgetsnbextension~=3.6.0->ipywidgets<9,>=7.5.1->rich[jupyter]>=12.0.0->zenml[server]) (1.2.1)\n",
            "Requirement already satisfied: fastjsonschema in /usr/local/lib/python3.10/dist-packages (from nbformat->notebook>=4.4.1->widgetsnbextension~=3.6.0->ipywidgets<9,>=7.5.1->rich[jupyter]>=12.0.0->zenml[server]) (2.19.0)\n",
            "Requirement already satisfied: jsonschema>=2.6 in /usr/local/lib/python3.10/dist-packages (from nbformat->notebook>=4.4.1->widgetsnbextension~=3.6.0->ipywidgets<9,>=7.5.1->rich[jupyter]>=12.0.0->zenml[server]) (4.19.2)\n",
            "Requirement already satisfied: argon2-cffi-bindings in /usr/local/lib/python3.10/dist-packages (from argon2-cffi->notebook>=4.4.1->widgetsnbextension~=3.6.0->ipywidgets<9,>=7.5.1->rich[jupyter]>=12.0.0->zenml[server]) (21.2.0)\n",
            "Requirement already satisfied: jsonschema-specifications>=2023.03.6 in /usr/local/lib/python3.10/dist-packages (from jsonschema>=2.6->nbformat->notebook>=4.4.1->widgetsnbextension~=3.6.0->ipywidgets<9,>=7.5.1->rich[jupyter]>=12.0.0->zenml[server]) (2023.11.2)\n",
            "Requirement already satisfied: referencing>=0.28.4 in /usr/local/lib/python3.10/dist-packages (from jsonschema>=2.6->nbformat->notebook>=4.4.1->widgetsnbextension~=3.6.0->ipywidgets<9,>=7.5.1->rich[jupyter]>=12.0.0->zenml[server]) (0.32.0)\n",
            "Requirement already satisfied: rpds-py>=0.7.1 in /usr/local/lib/python3.10/dist-packages (from jsonschema>=2.6->nbformat->notebook>=4.4.1->widgetsnbextension~=3.6.0->ipywidgets<9,>=7.5.1->rich[jupyter]>=12.0.0->zenml[server]) (0.13.2)\n",
            "Requirement already satisfied: soupsieve>1.2 in /usr/local/lib/python3.10/dist-packages (from beautifulsoup4->nbconvert>=5->notebook>=4.4.1->widgetsnbextension~=3.6.0->ipywidgets<9,>=7.5.1->rich[jupyter]>=12.0.0->zenml[server]) (2.5)\n",
            "Requirement already satisfied: webencodings in /usr/local/lib/python3.10/dist-packages (from bleach->nbconvert>=5->notebook>=4.4.1->widgetsnbextension~=3.6.0->ipywidgets<9,>=7.5.1->rich[jupyter]>=12.0.0->zenml[server]) (0.5.1)\n",
            "Installing collected packages: passlib, azure-common, websockets, validators, uvloop, typing-extensions, SQLAlchemy, smmap, python-multipart, python-dotenv, pyparsing, pymysql, pyjwt, orjson, Mako, jedi, isodate, httptools, h11, click, bcrypt, watchfiles, uvicorn, starlette, sqlalchemy2-stubs, sqlalchemy_utils, httplib2, gitdb, docker, click-params, azure-core, alembic, sqlmodel, ipinfo, gitpython, fastapi, azure-mgmt-core, fastapi-utils, azure-mgmt-resource, zenml\n",
            "  Attempting uninstall: typing-extensions\n",
            "    Found existing installation: typing_extensions 4.5.0\n",
            "    Uninstalling typing_extensions-4.5.0:\n",
            "      Successfully uninstalled typing_extensions-4.5.0\n",
            "  Attempting uninstall: SQLAlchemy\n",
            "    Found existing installation: SQLAlchemy 2.0.23\n",
            "    Uninstalling SQLAlchemy-2.0.23:\n",
            "      Successfully uninstalled SQLAlchemy-2.0.23\n",
            "  Attempting uninstall: pyparsing\n",
            "    Found existing installation: pyparsing 3.1.1\n",
            "    Uninstalling pyparsing-3.1.1:\n",
            "      Successfully uninstalled pyparsing-3.1.1\n",
            "  Attempting uninstall: pyjwt\n",
            "    Found existing installation: PyJWT 2.3.0\n",
            "    Uninstalling PyJWT-2.3.0:\n",
            "      Successfully uninstalled PyJWT-2.3.0\n",
            "  Attempting uninstall: click\n",
            "    Found existing installation: click 8.1.7\n",
            "    Uninstalling click-8.1.7:\n",
            "      Successfully uninstalled click-8.1.7\n",
            "  Attempting uninstall: httplib2\n",
            "    Found existing installation: httplib2 0.22.0\n",
            "    Uninstalling httplib2-0.22.0:\n",
            "      Successfully uninstalled httplib2-0.22.0\n",
            "\u001b[31mERROR: pip's dependency resolver does not currently take into account all the packages that are installed. This behaviour is the source of the following dependency conflicts.\n",
            "lida 0.0.10 requires kaleido, which is not installed.\n",
            "ipython-sql 0.5.0 requires sqlalchemy>=2.0, but you have sqlalchemy 1.4.41 which is incompatible.\n",
            "tensorflow-probability 0.22.0 requires typing-extensions<4.6.0, but you have typing-extensions 4.9.0 which is incompatible.\u001b[0m\u001b[31m\n",
            "\u001b[0mSuccessfully installed Mako-1.3.0 SQLAlchemy-1.4.41 alembic-1.8.1 azure-common-1.1.28 azure-core-1.29.6 azure-mgmt-core-1.4.0 azure-mgmt-resource-23.0.1 bcrypt-4.0.1 click-8.1.3 click-params-0.3.0 docker-6.1.3 fastapi-0.99.1 fastapi-utils-0.2.1 gitdb-4.0.11 gitpython-3.1.40 h11-0.14.0 httplib2-0.19.1 httptools-0.6.1 ipinfo-5.0.0 isodate-0.6.1 jedi-0.19.1 orjson-3.8.14 passlib-1.7.4 pyjwt-2.7.0 pymysql-1.0.3 pyparsing-2.4.7 python-dotenv-1.0.0 python-multipart-0.0.6 smmap-5.0.1 sqlalchemy2-stubs-0.0.2a37 sqlalchemy_utils-0.38.3 sqlmodel-0.0.8 starlette-0.27.0 typing-extensions-4.9.0 uvicorn-0.24.0.post1 uvloop-0.19.0 validators-0.18.2 watchfiles-0.21.0 websockets-12.0 zenml-0.52.0\n"
          ]
        },
        {
          "output_type": "display_data",
          "data": {
            "application/vnd.colab-display-data+json": {
              "pip_warning": {
                "packages": [
                  "httplib2",
                  "pyparsing"
                ]
              }
            }
          },
          "metadata": {}
        },
        {
          "output_type": "stream",
          "name": "stdout",
          "text": [
            "\u001b[1;35mNumExpr defaulting to 2 threads.\u001b[0m\n",
            "\u001b[2K\u001b[32m⠴\u001b[0m Installing integrations...\n",
            "\u001b[1A\u001b[2KCollecting pyparsing==2.4.2\n",
            "  Downloading pyparsing-2.4.2-py2.py3-none-any.whl (65 kB)\n",
            "\u001b[2K     \u001b[90m━━━━━━━━━━━━━━━━━━━━━━━━━━━━━━━━━━━━━━━━\u001b[0m \u001b[32m65.5/65.5 kB\u001b[0m \u001b[31m1.9 MB/s\u001b[0m eta \u001b[36m0:00:00\u001b[0m\n",
            "\u001b[?25hInstalling collected packages: pyparsing\n",
            "  Attempting uninstall: pyparsing\n",
            "    Found existing installation: pyparsing 2.4.7\n",
            "    Uninstalling pyparsing-2.4.7:\n",
            "      Successfully uninstalled pyparsing-2.4.7\n",
            "Successfully installed pyparsing-2.4.2\n"
          ]
        },
        {
          "output_type": "display_data",
          "data": {
            "application/vnd.colab-display-data+json": {
              "pip_warning": {
                "packages": [
                  "pyparsing"
                ]
              }
            }
          },
          "metadata": {}
        },
        {
          "output_type": "execute_result",
          "data": {
            "text/plain": [
              "{'status': 'ok', 'restart': True}"
            ]
          },
          "metadata": {},
          "execution_count": 2
        }
      ],
      "source": [
        "%pip install \"zenml[server]\"\n",
        "!zenml integration install sklearn -y\n",
        "%pip install pyparsing==2.4.2  #required for google colab\n",
        "import IPython\n",
        "IPython.Application.instance().kernel.do_shutdown(restart=True)"
      ]
    },
    {
      "cell_type": "code",
      "source": [
        "NGROK_TOKEN=\"2ZUp3MroqSxJeR5e7HQ8Wbxc3Ei_3rywJQ6n7bs9dp1e68y5b\""
      ],
      "metadata": {
        "id": "UoV-PjdcFkDY"
      },
      "execution_count": 1,
      "outputs": []
    },
    {
      "cell_type": "code",
      "source": [
        "from zenml.environment import Environment\n",
        "if Environment.in_google_colab():\n",
        "  !pip install pyngrok\n",
        "  !ngrok authtoken {NGROK_TOKEN}"
      ],
      "metadata": {
        "colab": {
          "base_uri": "https://localhost:8080/"
        },
        "id": "URUbmtPTp9zE",
        "outputId": "1b698957-498d-41ec-ee9a-9c7b4f1bcba6"
      },
      "execution_count": 2,
      "outputs": [
        {
          "output_type": "stream",
          "name": "stderr",
          "text": [
            "INFO:numexpr.utils:NumExpr defaulting to 2 threads.\n"
          ]
        },
        {
          "output_type": "stream",
          "name": "stdout",
          "text": [
            "\u001b[1;35mNumExpr defaulting to 2 threads.\u001b[0m\n",
            "Collecting pyngrok\n",
            "  Downloading pyngrok-7.0.3-py3-none-any.whl (21 kB)\n",
            "Requirement already satisfied: PyYAML in /usr/local/lib/python3.10/dist-packages (from pyngrok) (6.0.1)\n",
            "Installing collected packages: pyngrok\n",
            "Successfully installed pyngrok-7.0.3\n",
            "Authtoken saved to configuration file: /root/.config/ngrok/ngrok.yml\n"
          ]
        }
      ]
    },
    {
      "cell_type": "markdown",
      "source": [
        "**ZenML Setup**"
      ],
      "metadata": {
        "id": "G7_wgnVLueEk"
      }
    },
    {
      "cell_type": "code",
      "source": [
        "!rm -rf .zen\n",
        "!zenml init"
      ],
      "metadata": {
        "colab": {
          "base_uri": "https://localhost:8080/"
        },
        "id": "hgZXwPwErmq1",
        "outputId": "a287f9bd-cb1a-4446-ebb8-affae8f0ce1a"
      },
      "execution_count": 3,
      "outputs": [
        {
          "output_type": "stream",
          "name": "stdout",
          "text": [
            "\u001b[1;35mNumExpr defaulting to 2 threads.\u001b[0m\n",
            "\u001b[?25l\u001b[1;35mInitializing the ZenML global configuration version to 0.52.0\u001b[0m\n",
            "\u001b[1;35mCreating database tables\u001b[0m\n",
            "\u001b[32m⠋\u001b[0m Initializing ZenML repository at /content.\n",
            "\u001b[2K\u001b[1A\u001b[2K\u001b[32m⠙\u001b[0m Initializing ZenML repository at /content.\n",
            "\u001b[2K\u001b[1A\u001b[2K\u001b[32m⠹\u001b[0m Initializing ZenML repository at /content.\n",
            "\u001b[2K\u001b[1A\u001b[2K\u001b[32m⠸\u001b[0m Initializing ZenML repository at /content.\n",
            "\u001b[2K\u001b[1A\u001b[2K\u001b[32m⠼\u001b[0m Initializing ZenML repository at /content.\n",
            "\u001b[2K\u001b[1A\u001b[2K\u001b[32m⠴\u001b[0m Initializing ZenML repository at /content.\n",
            "\u001b[2K\u001b[1A\u001b[2K\u001b[32m⠇\u001b[0m Initializing ZenML repository at /content.\n",
            "\u001b[2K\u001b[1A\u001b[2K\u001b[32m⠏\u001b[0m Initializing ZenML repository at /content.\n",
            "\u001b[2K\u001b[1A\u001b[2K\u001b[32m⠋\u001b[0m Initializing ZenML repository at /content.\n",
            "\u001b[2K\u001b[1A\u001b[2K\u001b[32m⠙\u001b[0m Initializing ZenML repository at /content.\n",
            "\u001b[1;35mCreating default workspace 'default' ...\u001b[0m\n",
            "\u001b[1;35mCreating default stack in workspace default...\u001b[0m\n",
            "\u001b[2K\u001b[1A\u001b[2K\u001b[32m⠹\u001b[0m Initializing ZenML repository at /content.\n",
            "\u001b[1;35mCreating default user 'default' ...\u001b[0m\n",
            "\u001b[2K\u001b[1A\u001b[2K\u001b[32m⠸\u001b[0m Initializing ZenML repository at /content.\n",
            "\u001b[2K\u001b[1A\u001b[2K\u001b[32m⠼\u001b[0m Initializing ZenML repository at /content.\n",
            "\u001b[2K\u001b[1A\u001b[2K\u001b[32m⠴\u001b[0m Initializing ZenML repository at /content.\n",
            "\u001b[2K\u001b[1A\u001b[2K\u001b[32m⠦\u001b[0m Initializing ZenML repository at /content.\n",
            "\u001b[2K\u001b[1A\u001b[2K\u001b[32m⠧\u001b[0m Initializing ZenML repository at /content.\n",
            "\u001b[1;35mSetting the global active workspace to 'default'.\u001b[0m\n",
            "\u001b[33mSetting the global active stack to default.\u001b[0m\n",
            "\u001b[1;35mSetting the repo active workspace to 'default'.\u001b[0m\n",
            "\u001b[33mSetting the repo active stack to default.\u001b[0m\n",
            "\u001b[2K\u001b[1A\u001b[2K\u001b[32m⠇\u001b[0m Initializing ZenML repository at /content.\n",
            "\u001b[2K\u001b[1A\u001b[2K\u001b[32m⠏\u001b[0m Initializing ZenML repository at /content.\n",
            "\u001b[2K\u001b[1A\u001b[2K\u001b[32m⠋\u001b[0m Initializing ZenML repository at /content.\n",
            "\u001b[2K\u001b[1A\u001b[2K\u001b[32m⠙\u001b[0m Initializing ZenML repository at /content.\n",
            "\u001b[2K\u001b[1A\u001b[2K\u001b[32m⠹\u001b[0m Initializing ZenML repository at /content.\n",
            "\u001b[33mIntegration aws failed to register flavors. Error: No module named 'aws_profile_manager'\u001b[0m\n",
            "\u001b[2K\u001b[1A\u001b[2K\u001b[32m⠸\u001b[0m Initializing ZenML repository at /content.\n",
            "\u001b[2K\u001b[1A\u001b[2K\u001b[32m⠼\u001b[0m Initializing ZenML repository at /content.\n",
            "\u001b[2K\u001b[1A\u001b[2K\u001b[32m⠴\u001b[0m Initializing ZenML repository at /content.\n",
            "\u001b[2K\u001b[1A\u001b[2K\u001b[32m⠦\u001b[0m Initializing ZenML repository at /content.\n",
            "\u001b[2K\u001b[1A\u001b[2K\u001b[32m⠧\u001b[0m Initializing ZenML repository at /content.\n",
            "\u001b[2K\u001b[1A\u001b[2K\u001b[32m⠇\u001b[0m Initializing ZenML repository at /content.\n",
            "\u001b[2K\u001b[1A\u001b[2K\u001b[32m⠏\u001b[0m Initializing ZenML repository at /content.\n",
            "\u001b[2K\u001b[1A\u001b[2K\u001b[32m⠋\u001b[0m Initializing ZenML repository at /content.\n",
            "\u001b[2K\u001b[1A\u001b[2K\u001b[32m⠙\u001b[0m Initializing ZenML repository at /content.\n",
            "\u001b[2K\u001b[1A\u001b[2K\u001b[32m⠸\u001b[0m Initializing ZenML repository at /content.\n",
            "\u001b[2K\u001b[1A\u001b[2K\u001b[32m⠼\u001b[0m Initializing ZenML repository at /content.\n",
            "\u001b[2K\u001b[1A\u001b[2K\u001b[32m⠴\u001b[0m Initializing ZenML repository at /content.\n",
            "\u001b[2K\u001b[1A\u001b[2K\u001b[32m⠦\u001b[0m Initializing ZenML repository at /content.\n",
            "\u001b[2K\u001b[1A\u001b[2K\u001b[32m⠧\u001b[0m Initializing ZenML repository at /content.\n",
            "\u001b[2K\u001b[1A\u001b[2K\u001b[32m⠇\u001b[0m Initializing ZenML repository at /content.\n",
            "\u001b[2K\u001b[1A\u001b[2K\u001b[32m⠏\u001b[0m Initializing ZenML repository at /content.\n",
            "\u001b[1;35mReloading configuration file /content/.zen/config.yaml\u001b[0m\n",
            "\u001b[2K\u001b[1A\u001b[2K\u001b[2;36mZenML repository initialized at \u001b[0m\u001b[2;35m/\u001b[0m\u001b[2;95mcontent.\u001b[0m\n",
            "\u001b[2;32m⠏\u001b[0m\u001b[2;36m Initializing ZenML repository at /content.\u001b[0m\n",
            "\u001b[2K\u001b[1A\u001b[2K\u001b[32m⠏\u001b[0m Initializing ZenML repository at /content.\n",
            "\n",
            "\u001b[1A\u001b[2K\u001b[1A\u001b[2K\u001b[2;36mThe local active stack was initialized to \u001b[0m\u001b[2;32m'default'\u001b[0m\u001b[2;36m. This local configuration will only take effect \u001b[0m\n",
            "\u001b[2;36mwhen you're running ZenML from the initialized repository root, or from a subdirectory. For more \u001b[0m\n",
            "\u001b[2;36minformation on repositories and configurations, please visit \u001b[0m\n",
            "\u001b[2;4;94mhttps://docs.zenml.io/user-guide/starter-guide/understand-stacks.\u001b[0m\n"
          ]
        }
      ]
    },
    {
      "cell_type": "markdown",
      "source": [
        "ML Code"
      ],
      "metadata": {
        "id": "lBq4GOCywSUe"
      }
    },
    {
      "cell_type": "code",
      "source": [
        "import numpy as np\n",
        "import pandas as pd\n",
        "from sklearn.base import ClassifierMixin\n",
        "from sklearn.svm import SVC\n",
        "from sklearn.datasets import load_digits\n",
        "from sklearn.model_selection import train_test_split\n",
        "\n",
        "def train_test() -> None:\n",
        "    digits = load_digits()\n",
        "    data = digits.images.reshape((len(digits.images), -1))\n",
        "\n",
        "    X_train, X_test, y_train, y_test = train_test_split(\n",
        "        data, digits.target, test_size=0.2, shuffle=False\n",
        "    )\n",
        "\n",
        "    model = SVC(gamma=0.001)\n",
        "    model.fit(X_train, y_train)\n",
        "\n",
        "    test_acc = model.score(X_test, y_test)\n",
        "    print(f\"Test accuracy: {test_acc}\")\n",
        "\n",
        "train_test()\n"
      ],
      "metadata": {
        "id": "P9L0dSchuqoa",
        "colab": {
          "base_uri": "https://localhost:8080/"
        },
        "outputId": "bc1675b4-e9ed-44a7-f15a-6a50a2ddae27"
      },
      "execution_count": 4,
      "outputs": [
        {
          "output_type": "stream",
          "name": "stdout",
          "text": [
            "Test accuracy: 0.9583333333333334\n"
          ]
        }
      ]
    },
    {
      "cell_type": "markdown",
      "source": [
        "**ML pipelines with ZenML**"
      ],
      "metadata": {
        "id": "7HbkTjblvr5n"
      }
    },
    {
      "cell_type": "markdown",
      "source": [
        "![Screenshot (310).png](data:image/png;base64,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)"
      ],
      "metadata": {
        "id": "u01lSEDbunON"
      }
    },
    {
      "cell_type": "code",
      "source": [
        "from zenml import step\n",
        "from typing_extensions import Annotated\n",
        "import pandas as pd\n",
        "import numpy as np\n",
        "from typing import Tuple\n",
        "\n",
        "@step\n",
        "def importer() -> Tuple[  #will return that will be accepted by\n",
        "  Annotated[np.ndarray,\"X_train\"],\n",
        "  Annotated[np.ndarray,\"X_test\"],\n",
        "  Annotated[np.ndarray,\"y_train\"],\n",
        "  Annotated[np.ndarray,\"y_test\"],\n",
        "]:\n",
        "  digits=load_digits()\n",
        "  data = digits.images.reshape((len(digits.images), -1))\n",
        "\n",
        "  X_train, X_test, y_train, y_test = train_test_split(\n",
        "        data, digits.target, test_size=0.2, shuffle=False\n",
        "    )\n",
        "\n",
        "  return X_train,X_test,y_train,y_test\n",
        "\n",
        "@step\n",
        "\n",
        "def SVC_trainer(\n",
        "    X_train:np.ndarray,  #will take the value from importer\n",
        "    y_train:np.ndarray,\n",
        ")->ClassifierMixin:\n",
        "\n",
        "    model=SVC(gamma=0.001)\n",
        "    model.fit(X_train,y_train)\n",
        "    return model\n",
        "\n",
        "@step\n",
        "def evaluator(\n",
        "    X_test:np.ndarray,\n",
        "    y_test:np.ndarray,\n",
        "    model:ClassifierMixin,\n",
        ")->float:\n",
        "    test_acc=model.score(X_test,y_test)\n",
        "    print(f\"Test accuracy: {test_acc}\")\n",
        "\n",
        "    return test_acc"
      ],
      "metadata": {
        "id": "w48Hp7G1stb6"
      },
      "execution_count": 5,
      "outputs": []
    },
    {
      "cell_type": "code",
      "source": [
        "from zenml import pipeline\n",
        "\n",
        "@pipeline\n",
        "def digits_pipeline():\n",
        "  X_train,X_test,y_train,y_test=importer()\n",
        "  model=SVC_trainer(X_train=X_train,y_train=y_train)\n",
        "  evaluator(X_test=X_test,y_test=y_test,model=model)"
      ],
      "metadata": {
        "id": "gN1qo_zc10mY"
      },
      "execution_count": 6,
      "outputs": []
    },
    {
      "cell_type": "code",
      "source": [
        "digits_svc_pipeline=digits_pipeline()"
      ],
      "metadata": {
        "colab": {
          "base_uri": "https://localhost:8080/"
        },
        "id": "4izaE9rm4hDI",
        "outputId": "4f695359-320e-425e-a77c-ed1913daae91"
      },
      "execution_count": 7,
      "outputs": [
        {
          "output_type": "stream",
          "name": "stdout",
          "text": [
            "\u001b[1;35mInitiating a new run for the pipeline: \u001b[0m\u001b[1;36mdigits_pipeline\u001b[1;35m.\u001b[0m\n",
            "\u001b[1;35mRegistered new version: \u001b[0m\u001b[1;36m(version 1)\u001b[1;35m.\u001b[0m\n",
            "\u001b[1;35mExecuting a new run.\u001b[0m\n",
            "\u001b[1;35mUsing user: \u001b[0m\u001b[1;36mdefault\u001b[1;35m\u001b[0m\n",
            "\u001b[1;35mUsing stack: \u001b[0m\u001b[1;36mdefault\u001b[1;35m\u001b[0m\n",
            "\u001b[1;35m  artifact_store: \u001b[0m\u001b[1;36mdefault\u001b[1;35m\u001b[0m\n",
            "\u001b[1;35m  orchestrator: \u001b[0m\u001b[1;36mdefault\u001b[1;35m\u001b[0m\n",
            "\u001b[1;35mStep \u001b[0m\u001b[1;36mimporter\u001b[1;35m has started.\u001b[0m\n",
            "\u001b[1;35mStep \u001b[0m\u001b[1;36mimporter\u001b[1;35m has finished in \u001b[0m\u001b[1;36m2.696s\u001b[1;35m.\u001b[0m\n",
            "\u001b[1;35mStep \u001b[0m\u001b[1;36mSVC_trainer\u001b[1;35m has started.\u001b[0m\n",
            "\u001b[1;35mStep \u001b[0m\u001b[1;36mSVC_trainer\u001b[1;35m has finished in \u001b[0m\u001b[1;36m0.440s\u001b[1;35m.\u001b[0m\n",
            "\u001b[1;35mStep \u001b[0m\u001b[1;36mevaluator\u001b[1;35m has started.\u001b[0m\n",
            "Test accuracy: 0.9583333333333334\n",
            "\u001b[1;35mStep \u001b[0m\u001b[1;36mevaluator\u001b[1;35m has finished in \u001b[0m\u001b[1;36m0.435s\u001b[1;35m.\u001b[0m\n",
            "\u001b[1;35mRun \u001b[0m\u001b[1;36mdigits_pipeline-2023_12_17-10_31_43_664324\u001b[1;35m has finished in \u001b[0m\u001b[1;36m3.915s\u001b[1;35m.\u001b[0m\n",
            "\u001b[1;35mYou can visualize your pipeline runs in the \u001b[0m\u001b[1;36mZenML Dashboard\u001b[1;35m. In order to try it locally, please run \u001b[0m\u001b[1;36mzenml up\u001b[1;35m.\u001b[0m\n"
          ]
        }
      ]
    },
    {
      "cell_type": "code",
      "source": [
        "from zenml.environment import Environment\n",
        "\n",
        "def start_zenml_dashboard(port=8237):\n",
        "  if Environment.in_google_colab():\n",
        "    from pyngrok import ngrok\n",
        "\n",
        "    public_url=ngrok.connect(port)\n",
        "    print(f\"\\x1b[31mIn Colab, use this url instead: {public_url}!\\x1b[0m\")\n",
        "\n",
        "    !zenml up --blocking --port {port}\n",
        "\n",
        "  else:\n",
        "    !zenml up --port {port}\n",
        "\n",
        "start_zenml_dashboard()"
      ],
      "metadata": {
        "colab": {
          "base_uri": "https://localhost:8080/"
        },
        "id": "sQkoqjsc4zHY",
        "outputId": "7171c705-bcc9-4b9d-8b5d-b6c8d8b92c7c"
      },
      "execution_count": 8,
      "outputs": [
        {
          "output_type": "stream",
          "name": "stderr",
          "text": [
            "INFO:pyngrok.ngrok:Opening tunnel named: http-8237-c6f0ca8b-4ada-4922-811b-1d243b4bb0b6\n"
          ]
        },
        {
          "output_type": "stream",
          "name": "stdout",
          "text": [
            "\u001b[1;35mOpening tunnel named: http-8237-c6f0ca8b-4ada-4922-811b-1d243b4bb0b6\u001b[0m\n"
          ]
        },
        {
          "output_type": "stream",
          "name": "stderr",
          "text": [
            "INFO:pyngrok.process.ngrok:t=2023-12-17T10:31:50+0000 lvl=info msg=\"no configuration paths supplied\"\n"
          ]
        },
        {
          "output_type": "stream",
          "name": "stdout",
          "text": [
            "\u001b[1;35mt=2023-12-17T10:31:50+0000 lvl=info msg=\"no configuration paths supplied\"\u001b[0m\n"
          ]
        },
        {
          "output_type": "stream",
          "name": "stderr",
          "text": [
            "INFO:pyngrok.process.ngrok:t=2023-12-17T10:31:50+0000 lvl=info msg=\"using configuration at default config path\" path=/root/.config/ngrok/ngrok.yml\n"
          ]
        },
        {
          "output_type": "stream",
          "name": "stdout",
          "text": [
            "\u001b[1;35mt=2023-12-17T10:31:50+0000 lvl=info msg=\"using configuration at default config path\" path=/root/.config/ngrok/ngrok.yml\u001b[0m\n"
          ]
        },
        {
          "output_type": "stream",
          "name": "stderr",
          "text": [
            "INFO:pyngrok.process.ngrok:t=2023-12-17T10:31:50+0000 lvl=info msg=\"open config file\" path=/root/.config/ngrok/ngrok.yml err=nil\n"
          ]
        },
        {
          "output_type": "stream",
          "name": "stdout",
          "text": [
            "\u001b[1;35mt=2023-12-17T10:31:50+0000 lvl=info msg=\"open config file\" path=/root/.config/ngrok/ngrok.yml err=nil\u001b[0m\n"
          ]
        },
        {
          "output_type": "stream",
          "name": "stderr",
          "text": [
            "INFO:pyngrok.process.ngrok:t=2023-12-17T10:31:50+0000 lvl=info msg=\"starting web service\" obj=web addr=127.0.0.1:4040 allow_hosts=[]\n"
          ]
        },
        {
          "output_type": "stream",
          "name": "stdout",
          "text": [
            "\u001b[1;35mt=2023-12-17T10:31:50+0000 lvl=info msg=\"starting web service\" obj=web addr=127.0.0.1:4040 allow_hosts=[]\u001b[0m\n"
          ]
        },
        {
          "output_type": "stream",
          "name": "stderr",
          "text": [
            "INFO:pyngrok.process.ngrok:t=2023-12-17T10:31:51+0000 lvl=info msg=\"client session established\" obj=tunnels.session obj=csess id=50c08c3c9757\n"
          ]
        },
        {
          "output_type": "stream",
          "name": "stdout",
          "text": [
            "\u001b[1;35mt=2023-12-17T10:31:51+0000 lvl=info msg=\"client session established\" obj=tunnels.session obj=csess id=50c08c3c9757\u001b[0m\n"
          ]
        },
        {
          "output_type": "stream",
          "name": "stderr",
          "text": [
            "INFO:pyngrok.process.ngrok:t=2023-12-17T10:31:51+0000 lvl=info msg=\"tunnel session started\" obj=tunnels.session\n"
          ]
        },
        {
          "output_type": "stream",
          "name": "stdout",
          "text": [
            "\u001b[1;35mt=2023-12-17T10:31:51+0000 lvl=info msg=\"tunnel session started\" obj=tunnels.session\u001b[0m\n"
          ]
        },
        {
          "output_type": "stream",
          "name": "stderr",
          "text": [
            "INFO:pyngrok.process.ngrok:t=2023-12-17T10:31:51+0000 lvl=info msg=start pg=/api/tunnels id=fbcbf0a839fe4f44\n"
          ]
        },
        {
          "output_type": "stream",
          "name": "stdout",
          "text": [
            "\u001b[1;35mt=2023-12-17T10:31:51+0000 lvl=info msg=start pg=/api/tunnels id=fbcbf0a839fe4f44\u001b[0m\n"
          ]
        },
        {
          "output_type": "stream",
          "name": "stderr",
          "text": [
            "INFO:pyngrok.process.ngrok:t=2023-12-17T10:31:51+0000 lvl=info msg=end pg=/api/tunnels id=fbcbf0a839fe4f44 status=200 dur=467.313µs\n"
          ]
        },
        {
          "output_type": "stream",
          "name": "stdout",
          "text": [
            "\u001b[1;35mt=2023-12-17T10:31:51+0000 lvl=info msg=end pg=/api/tunnels id=fbcbf0a839fe4f44 status=200 dur=467.313µs\u001b[0m\n"
          ]
        },
        {
          "output_type": "stream",
          "name": "stderr",
          "text": [
            "INFO:pyngrok.process.ngrok:t=2023-12-17T10:31:51+0000 lvl=info msg=start pg=/api/tunnels id=e8918b780d6fb836\n"
          ]
        },
        {
          "output_type": "stream",
          "name": "stdout",
          "text": [
            "\u001b[1;35mt=2023-12-17T10:31:51+0000 lvl=info msg=start pg=/api/tunnels id=e8918b780d6fb836\u001b[0m\n"
          ]
        },
        {
          "output_type": "stream",
          "name": "stderr",
          "text": [
            "INFO:pyngrok.process.ngrok:t=2023-12-17T10:31:51+0000 lvl=info msg=end pg=/api/tunnels id=e8918b780d6fb836 status=200 dur=127.197µs\n"
          ]
        },
        {
          "output_type": "stream",
          "name": "stdout",
          "text": [
            "\u001b[1;35mt=2023-12-17T10:31:51+0000 lvl=info msg=end pg=/api/tunnels id=e8918b780d6fb836 status=200 dur=127.197µs\u001b[0m\n"
          ]
        },
        {
          "output_type": "stream",
          "name": "stderr",
          "text": [
            "INFO:pyngrok.process.ngrok:t=2023-12-17T10:31:51+0000 lvl=info msg=start pg=/api/tunnels id=b925934bd328bde2\n"
          ]
        },
        {
          "output_type": "stream",
          "name": "stdout",
          "text": [
            "\u001b[1;35mt=2023-12-17T10:31:51+0000 lvl=info msg=start pg=/api/tunnels id=b925934bd328bde2\u001b[0m\n"
          ]
        },
        {
          "output_type": "stream",
          "name": "stderr",
          "text": [
            "INFO:pyngrok.process.ngrok:t=2023-12-17T10:31:51+0000 lvl=info msg=\"started tunnel\" obj=tunnels name=http-8237-c6f0ca8b-4ada-4922-811b-1d243b4bb0b6 addr=http://localhost:8237 url=https://038d-34-81-222-230.ngrok-free.app\n"
          ]
        },
        {
          "output_type": "stream",
          "name": "stdout",
          "text": [
            "\u001b[31mIn Colab, use this url instead: NgrokTunnel: \"https://038d-34-81-222-230.ngrok-free.app\" -> \"http://localhost:8237\"!\u001b[0m\n",
            "\u001b[1;35mt=2023-12-17T10:31:51+0000 lvl=info msg=\"started tunnel\" obj=tunnels name=http-8237-c6f0ca8b-4ada-4922-811b-1d243b4bb0b6 addr=http://localhost:8237 url=https://038d-34-81-222-230.ngrok-free.app\u001b[0m\n"
          ]
        },
        {
          "output_type": "stream",
          "name": "stderr",
          "text": [
            "INFO:pyngrok.process.ngrok:t=2023-12-17T10:31:51+0000 lvl=info msg=end pg=/api/tunnels id=b925934bd328bde2 status=201 dur=197.038466ms\n"
          ]
        },
        {
          "output_type": "stream",
          "name": "stdout",
          "text": [
            "\u001b[1;35mt=2023-12-17T10:31:51+0000 lvl=info msg=end pg=/api/tunnels id=b925934bd328bde2 status=201 dur=197.038466ms\u001b[0m\n",
            "\u001b[1;35mNumExpr defaulting to 2 threads.\u001b[0m\n",
            "\u001b[1;35mDeploying a local ZenML server with name 'local'.\u001b[0m\n",
            "\u001b[1;35mStarting ZenML Server as blocking process... press CTRL+C once to stop it.\u001b[0m\n",
            "\u001b[32mINFO\u001b[0m:     Started server process [\u001b[36m1306\u001b[0m]\n",
            "\u001b[32mINFO\u001b[0m:     Waiting for application startup.\n",
            "\u001b[32mINFO\u001b[0m:     Application startup complete.\n",
            "\u001b[32mINFO\u001b[0m:     Uvicorn running on \u001b[1mhttp://127.0.0.1:8237\u001b[0m (Press CTRL+C to quit)\n"
          ]
        },
        {
          "output_type": "stream",
          "name": "stderr",
          "text": [
            "INFO:pyngrok.process.ngrok:t=2023-12-17T10:32:00+0000 lvl=info msg=\"join connections\" obj=join id=40e036a9cb02 l=127.0.0.1:8237 r=115.242.248.226:34000\n"
          ]
        },
        {
          "output_type": "stream",
          "name": "stdout",
          "text": [
            "\u001b[1;35mt=2023-12-17T10:32:00+0000 lvl=info msg=\"join connections\" obj=join id=40e036a9cb02 l=127.0.0.1:8237 r=115.242.248.226:34000\u001b[0m\n",
            "\u001b[32mINFO\u001b[0m:     115.242.248.226:0 - \"\u001b[1mGET / HTTP/1.1\u001b[0m\" \u001b[32m200 OK\u001b[0m\n"
          ]
        },
        {
          "output_type": "stream",
          "name": "stderr",
          "text": [
            "INFO:pyngrok.process.ngrok:t=2023-12-17T10:32:01+0000 lvl=info msg=\"join connections\" obj=join id=1547ce1d686a l=127.0.0.1:8237 r=115.242.248.226:34000\n"
          ]
        },
        {
          "output_type": "stream",
          "name": "stdout",
          "text": [
            "\u001b[32mINFO\u001b[0m:     115.242.248.226:0 - \"\u001b[1mGET /css/2.5b37d44a.chunk.css HTTP/1.1\u001b[0m\" \u001b[32m200 OK\u001b[0m\n",
            "\u001b[1;35mt=2023-12-17T10:32:01+0000 lvl=info msg=\"join connections\" obj=join id=1547ce1d686a l=127.0.0.1:8237 r=115.242.248.226:34000\u001b[0m\n"
          ]
        },
        {
          "output_type": "stream",
          "name": "stderr",
          "text": [
            "INFO:pyngrok.process.ngrok:t=2023-12-17T10:32:01+0000 lvl=info msg=\"join connections\" obj=join id=c245ab400349 l=127.0.0.1:8237 r=115.242.248.226:34000\n"
          ]
        },
        {
          "output_type": "stream",
          "name": "stdout",
          "text": [
            "\u001b[1;35mt=2023-12-17T10:32:01+0000 lvl=info msg=\"join connections\" obj=join id=c245ab400349 l=127.0.0.1:8237 r=115.242.248.226:34000\u001b[0m\n"
          ]
        },
        {
          "output_type": "stream",
          "name": "stderr",
          "text": [
            "INFO:pyngrok.process.ngrok:t=2023-12-17T10:32:01+0000 lvl=info msg=\"join connections\" obj=join id=8e806783f8eb l=127.0.0.1:8237 r=115.242.248.226:34000\n"
          ]
        },
        {
          "output_type": "stream",
          "name": "stdout",
          "text": [
            "\u001b[1;35mt=2023-12-17T10:32:01+0000 lvl=info msg=\"join connections\" obj=join id=8e806783f8eb l=127.0.0.1:8237 r=115.242.248.226:34000\u001b[0m\n",
            "\u001b[32mINFO\u001b[0m:     115.242.248.226:0 - \"\u001b[1mGET /css/main.77e46c35.chunk.css HTTP/1.1\u001b[0m\" \u001b[32m200 OK\u001b[0m\n",
            "\u001b[32mINFO\u001b[0m:     115.242.248.226:0 - \"\u001b[1mGET /js/main.2417af0c.chunk.js HTTP/1.1\u001b[0m\" \u001b[32m200 OK\u001b[0m\n",
            "\u001b[32mINFO\u001b[0m:     115.242.248.226:0 - \"\u001b[1mGET /js/2.c7557a74.chunk.js HTTP/1.1\u001b[0m\" \u001b[32m200 OK\u001b[0m\n",
            "\u001b[32mINFO\u001b[0m:     115.242.248.226:0 - \"\u001b[1mGET /favicon.ico HTTP/1.1\u001b[0m\" \u001b[32m200 OK\u001b[0m\n"
          ]
        },
        {
          "output_type": "stream",
          "name": "stderr",
          "text": [
            "INFO:pyngrok.process.ngrok:t=2023-12-17T10:32:05+0000 lvl=info msg=\"join connections\" obj=join id=a7a91a941744 l=127.0.0.1:8237 r=115.242.248.226:34000\n"
          ]
        },
        {
          "output_type": "stream",
          "name": "stdout",
          "text": [
            "\u001b[32mINFO\u001b[0m:     115.242.248.226:0 - \"\u001b[1mGET /media/logo_small.4204397d.svg HTTP/1.1\u001b[0m\" \u001b[32m200 OK\u001b[0m\n",
            "\u001b[1;35mt=2023-12-17T10:32:05+0000 lvl=info msg=\"join connections\" obj=join id=a7a91a941744 l=127.0.0.1:8237 r=115.242.248.226:34000\u001b[0m\n"
          ]
        },
        {
          "output_type": "stream",
          "name": "stderr",
          "text": [
            "INFO:pyngrok.process.ngrok:t=2023-12-17T10:32:06+0000 lvl=info msg=\"join connections\" obj=join id=8fe7a874550b l=127.0.0.1:8237 r=115.242.248.226:34000\n"
          ]
        },
        {
          "output_type": "stream",
          "name": "stdout",
          "text": [
            "\u001b[32mINFO\u001b[0m:     115.242.248.226:0 - \"\u001b[1mGET /api/v1/info HTTP/1.1\u001b[0m\" \u001b[32m200 OK\u001b[0m\n",
            "\u001b[1;35mt=2023-12-17T10:32:06+0000 lvl=info msg=\"join connections\" obj=join id=8fe7a874550b l=127.0.0.1:8237 r=115.242.248.226:34000\u001b[0m\n"
          ]
        },
        {
          "output_type": "stream",
          "name": "stderr",
          "text": [
            "INFO:pyngrok.process.ngrok:t=2023-12-17T10:32:06+0000 lvl=info msg=\"join connections\" obj=join id=0c7ffb0bd29f l=127.0.0.1:8237 r=115.242.248.226:34000\n"
          ]
        },
        {
          "output_type": "stream",
          "name": "stdout",
          "text": [
            "\u001b[1;35mt=2023-12-17T10:32:06+0000 lvl=info msg=\"join connections\" obj=join id=0c7ffb0bd29f l=127.0.0.1:8237 r=115.242.248.226:34000\u001b[0m\n"
          ]
        },
        {
          "output_type": "stream",
          "name": "stderr",
          "text": [
            "INFO:pyngrok.process.ngrok:t=2023-12-17T10:32:06+0000 lvl=info msg=\"join connections\" obj=join id=5be1aeba042b l=127.0.0.1:8237 r=115.242.248.226:34000\n"
          ]
        },
        {
          "output_type": "stream",
          "name": "stdout",
          "text": [
            "\u001b[1;35mt=2023-12-17T10:32:06+0000 lvl=info msg=\"join connections\" obj=join id=5be1aeba042b l=127.0.0.1:8237 r=115.242.248.226:34000\u001b[0m\n",
            "\u001b[32mINFO\u001b[0m:     115.242.248.226:0 - \"\u001b[1mGET /media/Rubik-Regular.b3d0902b.ttf HTTP/1.1\u001b[0m\" \u001b[32m200 OK\u001b[0m\n",
            "\u001b[32mINFO\u001b[0m:     115.242.248.226:0 - \"\u001b[1mGET /api/v1/workspaces HTTP/1.1\u001b[0m\" \u001b[31m401 Unauthorized\u001b[0m\n",
            "\u001b[32mINFO\u001b[0m:     115.242.248.226:0 - \"\u001b[1mGET /media/Rubik-Medium.c87313aa.ttf HTTP/1.1\u001b[0m\" \u001b[32m200 OK\u001b[0m\n",
            "\u001b[32mINFO\u001b[0m:     115.242.248.226:0 - \"\u001b[1mGET /api/v1/info HTTP/1.1\u001b[0m\" \u001b[32m200 OK\u001b[0m\n",
            "\u001b[32mINFO\u001b[0m:     115.242.248.226:0 - \"\u001b[1mPOST /api/v1/login HTTP/1.1\u001b[0m\" \u001b[32m200 OK\u001b[0m\n"
          ]
        },
        {
          "output_type": "stream",
          "name": "stderr",
          "text": [
            "INFO:pyngrok.process.ngrok:t=2023-12-17T10:32:34+0000 lvl=info msg=\"join connections\" obj=join id=4530ad647cb6 l=127.0.0.1:8237 r=115.242.248.226:34000\n"
          ]
        },
        {
          "output_type": "stream",
          "name": "stdout",
          "text": [
            "\u001b[1;35mGot token from cookie\u001b[0m\n",
            "\u001b[32mINFO\u001b[0m:     115.242.248.226:0 - \"\u001b[1mGET /api/v1/workspaces HTTP/1.1\u001b[0m\" \u001b[32m200 OK\u001b[0m\n",
            "\u001b[1;35mt=2023-12-17T10:32:34+0000 lvl=info msg=\"join connections\" obj=join id=4530ad647cb6 l=127.0.0.1:8237 r=115.242.248.226:34000\u001b[0m\n",
            "\u001b[1;35mGot token from cookie\u001b[0m\n",
            "\u001b[32mINFO\u001b[0m:     115.242.248.226:0 - \"\u001b[1mGET /api/v1/component-types HTTP/1.1\u001b[0m\" \u001b[32m200 OK\u001b[0m\n"
          ]
        },
        {
          "output_type": "stream",
          "name": "stderr",
          "text": [
            "INFO:pyngrok.process.ngrok:t=2023-12-17T10:32:35+0000 lvl=info msg=\"join connections\" obj=join id=a38b77004f50 l=127.0.0.1:8237 r=115.242.248.226:34000\n"
          ]
        },
        {
          "output_type": "stream",
          "name": "stdout",
          "text": [
            "\u001b[1;35mt=2023-12-17T10:32:35+0000 lvl=info msg=\"join connections\" obj=join id=a38b77004f50 l=127.0.0.1:8237 r=115.242.248.226:34000\u001b[0m\n"
          ]
        },
        {
          "output_type": "stream",
          "name": "stderr",
          "text": [
            "INFO:pyngrok.process.ngrok:t=2023-12-17T10:32:35+0000 lvl=info msg=\"join connections\" obj=join id=d1c2dc9014df l=127.0.0.1:8237 r=115.242.248.226:34000\n"
          ]
        },
        {
          "output_type": "stream",
          "name": "stdout",
          "text": [
            "\u001b[1;35mt=2023-12-17T10:32:35+0000 lvl=info msg=\"join connections\" obj=join id=d1c2dc9014df l=127.0.0.1:8237 r=115.242.248.226:34000\u001b[0m\n"
          ]
        },
        {
          "output_type": "stream",
          "name": "stderr",
          "text": [
            "INFO:pyngrok.process.ngrok:t=2023-12-17T10:32:35+0000 lvl=info msg=\"join connections\" obj=join id=5d0c983d7917 l=127.0.0.1:8237 r=115.242.248.226:34000\n"
          ]
        },
        {
          "output_type": "stream",
          "name": "stdout",
          "text": [
            "\u001b[1;35mt=2023-12-17T10:32:35+0000 lvl=info msg=\"join connections\" obj=join id=5d0c983d7917 l=127.0.0.1:8237 r=115.242.248.226:34000\u001b[0m\n"
          ]
        },
        {
          "output_type": "stream",
          "name": "stderr",
          "text": [
            "INFO:pyngrok.process.ngrok:t=2023-12-17T10:32:35+0000 lvl=info msg=\"join connections\" obj=join id=a84c1efb628f l=127.0.0.1:8237 r=115.242.248.226:34000\n"
          ]
        },
        {
          "output_type": "stream",
          "name": "stdout",
          "text": [
            "\u001b[1;35mt=2023-12-17T10:32:35+0000 lvl=info msg=\"join connections\" obj=join id=a84c1efb628f l=127.0.0.1:8237 r=115.242.248.226:34000\u001b[0m\n",
            "\u001b[1;35mGot token from cookie\u001b[0m\n",
            "\u001b[1;35mGot token from cookie\u001b[0m\n",
            "\u001b[32mINFO\u001b[0m:     115.242.248.226:0 - \"\u001b[1mGET /media/logo_small.4204397d.svg HTTP/1.1\u001b[0m\" \u001b[33m304 Not Modified\u001b[0m\n",
            "\u001b[32mINFO\u001b[0m:     115.242.248.226:0 - \"\u001b[1mGET /api/v1/info HTTP/1.1\u001b[0m\" \u001b[32m200 OK\u001b[0m\n",
            "\u001b[32mINFO\u001b[0m:     115.242.248.226:0 - \"\u001b[1mGET /api/v1/current-user HTTP/1.1\u001b[0m\" \u001b[32m200 OK\u001b[0m\n",
            "\u001b[32mINFO\u001b[0m:     115.242.248.226:0 - \"\u001b[1mGET /api/v1/users?hydrate=true&size=1000&page=1 HTTP/1.1\u001b[0m\" \u001b[32m200 OK\u001b[0m\n",
            "\u001b[1;35mGot token from cookie\u001b[0m\n",
            "\u001b[32mINFO\u001b[0m:     115.242.248.226:0 - \"\u001b[1mGET /api/v1/workspaces HTTP/1.1\u001b[0m\" \u001b[32m200 OK\u001b[0m\n",
            "\u001b[1;35mGot token from cookie\u001b[0m\n",
            "\u001b[1;35mGot token from cookie\u001b[0m\n",
            "\u001b[32mINFO\u001b[0m:     115.242.248.226:0 - \"\u001b[1mGET /api/v1/users?hydrate=true&size=1000&page=1 HTTP/1.1\u001b[0m\" \u001b[32m200 OK\u001b[0m\n",
            "\u001b[32mINFO\u001b[0m:     115.242.248.226:0 - \"\u001b[1mGET /api/v1/workspaces/default/statistics HTTP/1.1\u001b[0m\" \u001b[32m200 OK\u001b[0m\n"
          ]
        },
        {
          "output_type": "stream",
          "name": "stderr",
          "text": [
            "INFO:pyngrok.process.ngrok:t=2023-12-17T10:32:55+0000 lvl=info msg=\"join connections\" obj=join id=8bb53f3bd74f l=127.0.0.1:8237 r=115.242.248.226:34000\n"
          ]
        },
        {
          "output_type": "stream",
          "name": "stdout",
          "text": [
            "\u001b[1;35mt=2023-12-17T10:32:55+0000 lvl=info msg=\"join connections\" obj=join id=8bb53f3bd74f l=127.0.0.1:8237 r=115.242.248.226:34000\u001b[0m\n"
          ]
        },
        {
          "output_type": "stream",
          "name": "stderr",
          "text": [
            "INFO:pyngrok.process.ngrok:t=2023-12-17T10:32:55+0000 lvl=info msg=\"join connections\" obj=join id=4b67bb6409d8 l=127.0.0.1:8237 r=115.242.248.226:34000\n"
          ]
        },
        {
          "output_type": "stream",
          "name": "stdout",
          "text": [
            "\u001b[1;35mt=2023-12-17T10:32:55+0000 lvl=info msg=\"join connections\" obj=join id=4b67bb6409d8 l=127.0.0.1:8237 r=115.242.248.226:34000\u001b[0m\n"
          ]
        },
        {
          "output_type": "stream",
          "name": "stderr",
          "text": [
            "INFO:pyngrok.process.ngrok:t=2023-12-17T10:32:55+0000 lvl=info msg=\"join connections\" obj=join id=18838618ffb1 l=127.0.0.1:8237 r=115.242.248.226:34000\n"
          ]
        },
        {
          "output_type": "stream",
          "name": "stdout",
          "text": [
            "\u001b[1;35mGot token from cookie\u001b[0m\n",
            "\u001b[32mINFO\u001b[0m:     115.242.248.226:0 - \"\u001b[1mGET /api/v1/info HTTP/1.1\u001b[0m\" \u001b[32m200 OK\u001b[0m\n",
            "\u001b[32mINFO\u001b[0m:     115.242.248.226:0 - \"\u001b[1mGET /api/v1/workspaces HTTP/1.1\u001b[0m\" \u001b[32m200 OK\u001b[0m\n",
            "\u001b[1;35mt=2023-12-17T10:32:55+0000 lvl=info msg=\"join connections\" obj=join id=18838618ffb1 l=127.0.0.1:8237 r=115.242.248.226:34000\u001b[0m\n",
            "\u001b[1;35mGot token from cookie\u001b[0m\n",
            "\u001b[32mINFO\u001b[0m:     115.242.248.226:0 - \"\u001b[1mGET /api/v1/workspaces/default/pipelines?sort_by=desc:created&logical_operator=and&page=1&size=10 HTTP/1.1\u001b[0m\" \u001b[32m200 OK\u001b[0m\n"
          ]
        },
        {
          "output_type": "stream",
          "name": "stderr",
          "text": [
            "INFO:pyngrok.process.ngrok:t=2023-12-17T10:33:01+0000 lvl=info msg=\"join connections\" obj=join id=ee8953aaf66c l=127.0.0.1:8237 r=115.242.248.226:34000\n"
          ]
        },
        {
          "output_type": "stream",
          "name": "stdout",
          "text": [
            "\u001b[1;35mt=2023-12-17T10:33:01+0000 lvl=info msg=\"join connections\" obj=join id=ee8953aaf66c l=127.0.0.1:8237 r=115.242.248.226:34000\u001b[0m\n",
            "\u001b[1;35mGot token from cookie\u001b[0m\n",
            "\u001b[32mINFO\u001b[0m:     115.242.248.226:0 - \"\u001b[1mGET /api/v1/workspaces/default/pipelines?sort_by=desc:created&logical_operator=and&page=1&size=10 HTTP/1.1\u001b[0m\" \u001b[32m200 OK\u001b[0m\n"
          ]
        },
        {
          "output_type": "stream",
          "name": "stderr",
          "text": [
            "INFO:pyngrok.process.ngrok:t=2023-12-17T10:33:07+0000 lvl=info msg=\"join connections\" obj=join id=01e6b5b7a87b l=127.0.0.1:8237 r=115.242.248.226:34000\n"
          ]
        },
        {
          "output_type": "stream",
          "name": "stdout",
          "text": [
            "\u001b[1;35mt=2023-12-17T10:33:07+0000 lvl=info msg=\"join connections\" obj=join id=01e6b5b7a87b l=127.0.0.1:8237 r=115.242.248.226:34000\u001b[0m\n",
            "\u001b[1;35mGot token from cookie\u001b[0m\n",
            "\u001b[32mINFO\u001b[0m:     115.242.248.226:0 - \"\u001b[1mGET /api/v1/workspaces/default/pipelines?sort_by=desc:created&logical_operator=and&page=1&size=10 HTTP/1.1\u001b[0m\" \u001b[32m200 OK\u001b[0m\n"
          ]
        },
        {
          "output_type": "stream",
          "name": "stderr",
          "text": [
            "INFO:pyngrok.process.ngrok:t=2023-12-17T10:33:13+0000 lvl=info msg=\"join connections\" obj=join id=244f38228f14 l=127.0.0.1:8237 r=115.242.248.226:34000\n"
          ]
        },
        {
          "output_type": "stream",
          "name": "stdout",
          "text": [
            "\u001b[1;35mt=2023-12-17T10:33:13+0000 lvl=info msg=\"join connections\" obj=join id=244f38228f14 l=127.0.0.1:8237 r=115.242.248.226:34000\u001b[0m\n",
            "\u001b[1;35mGot token from cookie\u001b[0m\n",
            "\u001b[32mINFO\u001b[0m:     115.242.248.226:0 - \"\u001b[1mGET /api/v1/workspaces/default/pipelines?sort_by=desc:created&logical_operator=and&page=1&size=10 HTTP/1.1\u001b[0m\" \u001b[32m200 OK\u001b[0m\n"
          ]
        },
        {
          "output_type": "stream",
          "name": "stderr",
          "text": [
            "INFO:pyngrok.process.ngrok:t=2023-12-17T10:33:15+0000 lvl=info msg=\"join connections\" obj=join id=900f29f7e6cb l=127.0.0.1:8237 r=115.242.248.226:34000\n"
          ]
        },
        {
          "output_type": "stream",
          "name": "stdout",
          "text": [
            "\u001b[1;35mGot token from cookie\u001b[0m\n",
            "\u001b[32mINFO\u001b[0m:     115.242.248.226:0 - \"\u001b[1mGET /api/v1/workspaces HTTP/1.1\u001b[0m\" \u001b[32m200 OK\u001b[0m\n",
            "\u001b[1;35mt=2023-12-17T10:33:15+0000 lvl=info msg=\"join connections\" obj=join id=900f29f7e6cb l=127.0.0.1:8237 r=115.242.248.226:34000\u001b[0m\n",
            "\u001b[1;35mGot token from cookie\u001b[0m\n"
          ]
        },
        {
          "output_type": "stream",
          "name": "stderr",
          "text": [
            "INFO:pyngrok.process.ngrok:t=2023-12-17T10:33:15+0000 lvl=info msg=\"join connections\" obj=join id=0cc23d3a5b4c l=127.0.0.1:8237 r=115.242.248.226:34000\n"
          ]
        },
        {
          "output_type": "stream",
          "name": "stdout",
          "text": [
            "\u001b[32mINFO\u001b[0m:     115.242.248.226:0 - \"\u001b[1mGET /api/v1/pipelines/f1080717-1de9-462e-94c0-1792555a6153 HTTP/1.1\u001b[0m\" \u001b[32m200 OK\u001b[0m\n",
            "\u001b[1;35mt=2023-12-17T10:33:15+0000 lvl=info msg=\"join connections\" obj=join id=0cc23d3a5b4c l=127.0.0.1:8237 r=115.242.248.226:34000\u001b[0m\n"
          ]
        },
        {
          "output_type": "stream",
          "name": "stderr",
          "text": [
            "INFO:pyngrok.process.ngrok:t=2023-12-17T10:33:15+0000 lvl=info msg=\"join connections\" obj=join id=d47d34155868 l=127.0.0.1:8237 r=115.242.248.226:34000\n"
          ]
        },
        {
          "output_type": "stream",
          "name": "stdout",
          "text": [
            "\u001b[1;35mt=2023-12-17T10:33:15+0000 lvl=info msg=\"join connections\" obj=join id=d47d34155868 l=127.0.0.1:8237 r=115.242.248.226:34000\u001b[0m\n",
            "\u001b[32mINFO\u001b[0m:     115.242.248.226:0 - \"\u001b[1mGET /api/v1/info HTTP/1.1\u001b[0m\" \u001b[32m200 OK\u001b[0m\n",
            "\u001b[1;35mGot token from cookie\u001b[0m\n",
            "\u001b[32mINFO\u001b[0m:     115.242.248.226:0 - \"\u001b[1mGET /api/v1/runs?pipeline_id=f1080717-1de9-462e-94c0-1792555a6153&sort_by=desc:created&logical_operator=and&page=1&size=10 HTTP/1.1\u001b[0m\" \u001b[32m200 OK\u001b[0m\n"
          ]
        },
        {
          "output_type": "stream",
          "name": "stderr",
          "text": [
            "INFO:pyngrok.process.ngrok:t=2023-12-17T10:33:17+0000 lvl=info msg=\"join connections\" obj=join id=9be3a44a2d0a l=127.0.0.1:8237 r=115.242.248.226:34000\n"
          ]
        },
        {
          "output_type": "stream",
          "name": "stdout",
          "text": [
            "\u001b[1;35mGot token from cookie\u001b[0m\n",
            "\u001b[32mINFO\u001b[0m:     115.242.248.226:0 - \"\u001b[1mGET /api/v1/info HTTP/1.1\u001b[0m\" \u001b[32m200 OK\u001b[0m\n",
            "\u001b[32mINFO\u001b[0m:     115.242.248.226:0 - \"\u001b[1mGET /api/v1/workspaces HTTP/1.1\u001b[0m\" \u001b[32m200 OK\u001b[0m\n",
            "\u001b[1;35mt=2023-12-17T10:33:17+0000 lvl=info msg=\"join connections\" obj=join id=9be3a44a2d0a l=127.0.0.1:8237 r=115.242.248.226:34000\u001b[0m\n",
            "\u001b[1;35mGot token from cookie\u001b[0m\n",
            "\u001b[32mINFO\u001b[0m:     115.242.248.226:0 - \"\u001b[1mGET /api/v1/runs/319a2bf4-034a-40c6-90a0-3e50fa43c7e1 HTTP/1.1\u001b[0m\" \u001b[32m200 OK\u001b[0m\n",
            "\u001b[1;35mGot token from cookie\u001b[0m\n",
            "\u001b[32mINFO\u001b[0m:     115.242.248.226:0 - \"\u001b[1mGET /api/v1/runs/319a2bf4-034a-40c6-90a0-3e50fa43c7e1/graph HTTP/1.1\u001b[0m\" \u001b[32m200 OK\u001b[0m\n",
            "\u001b[1;35mGot token from cookie\u001b[0m\n",
            "\u001b[32mINFO\u001b[0m:     115.242.248.226:0 - \"\u001b[1mGET /media/arrowClose.cbd53f3f.svg HTTP/1.1\u001b[0m\" \u001b[32m200 OK\u001b[0m\n",
            "\u001b[32mINFO\u001b[0m:     115.242.248.226:0 - \"\u001b[1mGET /api/v1/run-metadata?pipeline_run_id=319a2bf4-034a-40c6-90a0-3e50fa43c7e1&key=orchestrator_url HTTP/1.1\u001b[0m\" \u001b[32m200 OK\u001b[0m\n"
          ]
        },
        {
          "output_type": "stream",
          "name": "stderr",
          "text": [
            "INFO:pyngrok.process.ngrok:t=2023-12-17T10:34:20+0000 lvl=info msg=\"join connections\" obj=join id=3f7f1a07b406 l=127.0.0.1:8237 r=115.242.248.226:34000\n"
          ]
        },
        {
          "output_type": "stream",
          "name": "stdout",
          "text": [
            "\u001b[1;35mt=2023-12-17T10:34:20+0000 lvl=info msg=\"join connections\" obj=join id=3f7f1a07b406 l=127.0.0.1:8237 r=115.242.248.226:34000\u001b[0m\n"
          ]
        },
        {
          "output_type": "stream",
          "name": "stderr",
          "text": [
            "INFO:pyngrok.process.ngrok:t=2023-12-17T10:34:20+0000 lvl=info msg=\"join connections\" obj=join id=ccd221dd3c2b l=127.0.0.1:8237 r=115.242.248.226:34000\n"
          ]
        },
        {
          "output_type": "stream",
          "name": "stdout",
          "text": [
            "\u001b[1;35mGot token from cookie\u001b[0m\n",
            "\u001b[32mINFO\u001b[0m:     115.242.248.226:0 - \"\u001b[1mGET /api/v1/workspaces HTTP/1.1\u001b[0m\" \u001b[32m200 OK\u001b[0m\n",
            "\u001b[1;35mt=2023-12-17T10:34:20+0000 lvl=info msg=\"join connections\" obj=join id=ccd221dd3c2b l=127.0.0.1:8237 r=115.242.248.226:34000\u001b[0m\n"
          ]
        },
        {
          "output_type": "stream",
          "name": "stderr",
          "text": [
            "INFO:pyngrok.process.ngrok:t=2023-12-17T10:34:20+0000 lvl=info msg=\"join connections\" obj=join id=1f465b29bf51 l=127.0.0.1:8237 r=115.242.248.226:34000\n"
          ]
        },
        {
          "output_type": "stream",
          "name": "stdout",
          "text": [
            "\u001b[1;35mt=2023-12-17T10:34:20+0000 lvl=info msg=\"join connections\" obj=join id=1f465b29bf51 l=127.0.0.1:8237 r=115.242.248.226:34000\u001b[0m\n",
            "\u001b[1;35mGot token from cookie\u001b[0m\n",
            "\u001b[32mINFO\u001b[0m:     115.242.248.226:0 - \"\u001b[1mGET /api/v1/info HTTP/1.1\u001b[0m\" \u001b[32m200 OK\u001b[0m\n",
            "\u001b[32mINFO\u001b[0m:     115.242.248.226:0 - \"\u001b[1mGET /api/v1/workspaces/default/pipelines?sort_by=desc:created&logical_operator=and&page=1&size=10 HTTP/1.1\u001b[0m\" \u001b[32m200 OK\u001b[0m\n"
          ]
        },
        {
          "output_type": "stream",
          "name": "stderr",
          "text": [
            "INFO:pyngrok.process.ngrok:t=2023-12-17T10:34:23+0000 lvl=info msg=\"join connections\" obj=join id=68d74b7459fa l=127.0.0.1:8237 r=115.242.248.226:34000\n"
          ]
        },
        {
          "output_type": "stream",
          "name": "stdout",
          "text": [
            "\u001b[1;35mGot token from cookie\u001b[0m\n",
            "\u001b[1;35mGot token from cookie\u001b[0m\n",
            "\u001b[32mINFO\u001b[0m:     115.242.248.226:0 - \"\u001b[1mGET /api/v1/workspaces HTTP/1.1\u001b[0m\" \u001b[32m200 OK\u001b[0m\n",
            "\u001b[32mINFO\u001b[0m:     115.242.248.226:0 - \"\u001b[1mGET /api/v1/runs?pipeline_id=f1080717-1de9-462e-94c0-1792555a6153&sort_by=desc:created&logical_operator=and&page=1&size=10 HTTP/1.1\u001b[0m\" \u001b[32m200 OK\u001b[0m\n",
            "\u001b[1;35mt=2023-12-17T10:34:23+0000 lvl=info msg=\"join connections\" obj=join id=68d74b7459fa l=127.0.0.1:8237 r=115.242.248.226:34000\u001b[0m\n"
          ]
        },
        {
          "output_type": "stream",
          "name": "stderr",
          "text": [
            "INFO:pyngrok.process.ngrok:t=2023-12-17T10:34:23+0000 lvl=info msg=\"join connections\" obj=join id=abbdc1805e7e l=127.0.0.1:8237 r=115.242.248.226:34000\n"
          ]
        },
        {
          "output_type": "stream",
          "name": "stdout",
          "text": [
            "\u001b[32mINFO\u001b[0m:     115.242.248.226:0 - \"\u001b[1mGET /api/v1/info HTTP/1.1\u001b[0m\" \u001b[32m200 OK\u001b[0m\n",
            "\u001b[1;35mt=2023-12-17T10:34:23+0000 lvl=info msg=\"join connections\" obj=join id=abbdc1805e7e l=127.0.0.1:8237 r=115.242.248.226:34000\u001b[0m\n",
            "\u001b[1;35mGot token from cookie\u001b[0m\n",
            "\u001b[32mINFO\u001b[0m:     115.242.248.226:0 - \"\u001b[1mGET /api/v1/pipelines/f1080717-1de9-462e-94c0-1792555a6153 HTTP/1.1\u001b[0m\" \u001b[32m200 OK\u001b[0m\n"
          ]
        },
        {
          "output_type": "stream",
          "name": "stderr",
          "text": [
            "INFO:pyngrok.process.ngrok:t=2023-12-17T10:34:29+0000 lvl=info msg=\"join connections\" obj=join id=25f0ed181e45 l=127.0.0.1:8237 r=115.242.248.226:34000\n"
          ]
        },
        {
          "output_type": "stream",
          "name": "stdout",
          "text": [
            "\u001b[1;35mt=2023-12-17T10:34:29+0000 lvl=info msg=\"join connections\" obj=join id=25f0ed181e45 l=127.0.0.1:8237 r=115.242.248.226:34000\u001b[0m\n",
            "\u001b[1;35mGot token from cookie\u001b[0m\n",
            "\u001b[32mINFO\u001b[0m:     115.242.248.226:0 - \"\u001b[1mGET /api/v1/runs?pipeline_id=f1080717-1de9-462e-94c0-1792555a6153&sort_by=desc:created&logical_operator=and&page=1&size=10 HTTP/1.1\u001b[0m\" \u001b[32m200 OK\u001b[0m\n"
          ]
        },
        {
          "output_type": "stream",
          "name": "stderr",
          "text": [
            "INFO:pyngrok.process.ngrok:t=2023-12-17T10:34:30+0000 lvl=info msg=\"join connections\" obj=join id=9a5e5ef655de l=127.0.0.1:8237 r=115.242.248.226:34000\n"
          ]
        },
        {
          "output_type": "stream",
          "name": "stdout",
          "text": [
            "\u001b[1;35mGot token from cookie\u001b[0m\n",
            "\u001b[32mINFO\u001b[0m:     115.242.248.226:0 - \"\u001b[1mGET /api/v1/workspaces HTTP/1.1\u001b[0m\" \u001b[32m200 OK\u001b[0m\n",
            "\u001b[1;35mt=2023-12-17T10:34:30+0000 lvl=info msg=\"join connections\" obj=join id=9a5e5ef655de l=127.0.0.1:8237 r=115.242.248.226:34000\u001b[0m\n",
            "\u001b[1;35mGot token from cookie\u001b[0m\n",
            "\u001b[32mINFO\u001b[0m:     115.242.248.226:0 - \"\u001b[1mGET /api/v1/workspaces/default/statistics HTTP/1.1\u001b[0m\" \u001b[32m200 OK\u001b[0m\n"
          ]
        },
        {
          "output_type": "stream",
          "name": "stderr",
          "text": [
            "INFO:pyngrok.process.ngrok:t=2023-12-17T10:34:30+0000 lvl=info msg=\"join connections\" obj=join id=cb9ed10b393a l=127.0.0.1:8237 r=115.242.248.226:34000\n"
          ]
        },
        {
          "output_type": "stream",
          "name": "stdout",
          "text": [
            "\u001b[1;35mt=2023-12-17T10:34:30+0000 lvl=info msg=\"join connections\" obj=join id=cb9ed10b393a l=127.0.0.1:8237 r=115.242.248.226:34000\u001b[0m\n"
          ]
        },
        {
          "output_type": "stream",
          "name": "stderr",
          "text": [
            "INFO:pyngrok.process.ngrok:t=2023-12-17T10:34:30+0000 lvl=info msg=\"join connections\" obj=join id=c8123abd0a77 l=127.0.0.1:8237 r=115.242.248.226:34000\n"
          ]
        },
        {
          "output_type": "stream",
          "name": "stdout",
          "text": [
            "\u001b[1;35mt=2023-12-17T10:34:30+0000 lvl=info msg=\"join connections\" obj=join id=c8123abd0a77 l=127.0.0.1:8237 r=115.242.248.226:34000\u001b[0m\n",
            "\u001b[1;35mGot token from cookie\u001b[0m\n",
            "\u001b[32mINFO\u001b[0m:     115.242.248.226:0 - \"\u001b[1mGET /api/v1/info HTTP/1.1\u001b[0m\" \u001b[32m200 OK\u001b[0m\n",
            "\u001b[32mINFO\u001b[0m:     115.242.248.226:0 - \"\u001b[1mGET /api/v1/users?hydrate=true&size=1000&page=1 HTTP/1.1\u001b[0m\" \u001b[32m200 OK\u001b[0m\n"
          ]
        },
        {
          "output_type": "stream",
          "name": "stderr",
          "text": [
            "INFO:pyngrok.process.ngrok:t=2023-12-17T10:34:35+0000 lvl=info msg=\"join connections\" obj=join id=f85983582404 l=127.0.0.1:8237 r=115.242.248.226:34000\n"
          ]
        },
        {
          "output_type": "stream",
          "name": "stdout",
          "text": [
            "\u001b[1;35mGot token from cookie\u001b[0m\n",
            "\u001b[1;35mGot token from cookie\u001b[0m\n",
            "\u001b[32mINFO\u001b[0m:     115.242.248.226:0 - \"\u001b[1mGET /api/v1/workspaces HTTP/1.1\u001b[0m\" \u001b[32m200 OK\u001b[0m\n",
            "\u001b[32mINFO\u001b[0m:     115.242.248.226:0 - \"\u001b[1mGET /api/v1/workspaces/default/runs?sort_by=desc:created&logical_operator=and&page=1&size=10 HTTP/1.1\u001b[0m\" \u001b[32m200 OK\u001b[0m\n",
            "\u001b[1;35mt=2023-12-17T10:34:35+0000 lvl=info msg=\"join connections\" obj=join id=f85983582404 l=127.0.0.1:8237 r=115.242.248.226:34000\u001b[0m\n",
            "\u001b[32mINFO\u001b[0m:     115.242.248.226:0 - \"\u001b[1mGET /api/v1/info HTTP/1.1\u001b[0m\" \u001b[32m200 OK\u001b[0m\n"
          ]
        },
        {
          "output_type": "stream",
          "name": "stderr",
          "text": [
            "INFO:pyngrok.process.ngrok:t=2023-12-17T10:34:37+0000 lvl=info msg=\"join connections\" obj=join id=22645dbb0930 l=127.0.0.1:8237 r=115.242.248.226:34000\n"
          ]
        },
        {
          "output_type": "stream",
          "name": "stdout",
          "text": [
            "\u001b[1;35mGot token from cookie\u001b[0m\n",
            "\u001b[32mINFO\u001b[0m:     115.242.248.226:0 - \"\u001b[1mGET /media/arrowClose.cbd53f3f.svg HTTP/1.1\u001b[0m\" \u001b[33m304 Not Modified\u001b[0m\n",
            "\u001b[32mINFO\u001b[0m:     115.242.248.226:0 - \"\u001b[1mGET /api/v1/workspaces HTTP/1.1\u001b[0m\" \u001b[32m200 OK\u001b[0m\n",
            "\u001b[1;35mt=2023-12-17T10:34:37+0000 lvl=info msg=\"join connections\" obj=join id=22645dbb0930 l=127.0.0.1:8237 r=115.242.248.226:34000\u001b[0m\n",
            "\u001b[32mINFO\u001b[0m:     115.242.248.226:0 - \"\u001b[1mGET /api/v1/info HTTP/1.1\u001b[0m\" \u001b[32m200 OK\u001b[0m\n"
          ]
        },
        {
          "output_type": "stream",
          "name": "stderr",
          "text": [
            "INFO:pyngrok.process.ngrok:t=2023-12-17T10:34:37+0000 lvl=info msg=\"join connections\" obj=join id=3090ee23fce4 l=127.0.0.1:8237 r=115.242.248.226:34000\n"
          ]
        },
        {
          "output_type": "stream",
          "name": "stdout",
          "text": [
            "\u001b[1;35mt=2023-12-17T10:34:37+0000 lvl=info msg=\"join connections\" obj=join id=3090ee23fce4 l=127.0.0.1:8237 r=115.242.248.226:34000\u001b[0m\n",
            "\u001b[1;35mGot token from cookie\u001b[0m\n",
            "\u001b[32mINFO\u001b[0m:     115.242.248.226:0 - \"\u001b[1mGET /api/v1/runs/319a2bf4-034a-40c6-90a0-3e50fa43c7e1 HTTP/1.1\u001b[0m\" \u001b[32m200 OK\u001b[0m\n",
            "\u001b[1;35mGot token from cookie\u001b[0m\n",
            "\u001b[32mINFO\u001b[0m:     115.242.248.226:0 - \"\u001b[1mGET /api/v1/runs/319a2bf4-034a-40c6-90a0-3e50fa43c7e1/graph HTTP/1.1\u001b[0m\" \u001b[32m200 OK\u001b[0m\n",
            "\u001b[1;35mGot token from cookie\u001b[0m\n",
            "\u001b[32mINFO\u001b[0m:     115.242.248.226:0 - \"\u001b[1mGET /api/v1/run-metadata?pipeline_run_id=319a2bf4-034a-40c6-90a0-3e50fa43c7e1&key=orchestrator_url HTTP/1.1\u001b[0m\" \u001b[32m200 OK\u001b[0m\n"
          ]
        },
        {
          "output_type": "stream",
          "name": "stderr",
          "text": [
            "INFO:pyngrok.process.ngrok:t=2023-12-17T10:34:44+0000 lvl=info msg=\"join connections\" obj=join id=b910d3ab78f3 l=127.0.0.1:8237 r=115.242.248.226:34000\n"
          ]
        },
        {
          "output_type": "stream",
          "name": "stdout",
          "text": [
            "\u001b[1;35mt=2023-12-17T10:34:44+0000 lvl=info msg=\"join connections\" obj=join id=b910d3ab78f3 l=127.0.0.1:8237 r=115.242.248.226:34000\u001b[0m\n"
          ]
        },
        {
          "output_type": "stream",
          "name": "stderr",
          "text": [
            "INFO:pyngrok.process.ngrok:t=2023-12-17T10:34:44+0000 lvl=info msg=\"join connections\" obj=join id=ae64776e39fb l=127.0.0.1:8237 r=115.242.248.226:34000\n"
          ]
        },
        {
          "output_type": "stream",
          "name": "stdout",
          "text": [
            "\u001b[1;35mt=2023-12-17T10:34:44+0000 lvl=info msg=\"join connections\" obj=join id=ae64776e39fb l=127.0.0.1:8237 r=115.242.248.226:34000\u001b[0m\n"
          ]
        },
        {
          "output_type": "stream",
          "name": "stderr",
          "text": [
            "INFO:pyngrok.process.ngrok:t=2023-12-17T10:34:44+0000 lvl=info msg=\"join connections\" obj=join id=2120339a0cc2 l=127.0.0.1:8237 r=115.242.248.226:34000\n"
          ]
        },
        {
          "output_type": "stream",
          "name": "stdout",
          "text": [
            "\u001b[1;35mGot token from cookie\u001b[0m\n",
            "\u001b[32mINFO\u001b[0m:     115.242.248.226:0 - \"\u001b[1mGET /api/v1/info HTTP/1.1\u001b[0m\" \u001b[32m200 OK\u001b[0m\n",
            "\u001b[1;35mt=2023-12-17T10:34:44+0000 lvl=info msg=\"join connections\" obj=join id=2120339a0cc2 l=127.0.0.1:8237 r=115.242.248.226:34000\u001b[0m\n",
            "\u001b[32mINFO\u001b[0m:     115.242.248.226:0 - \"\u001b[1mGET /api/v1/runs/319a2bf4-034a-40c6-90a0-3e50fa43c7e1 HTTP/1.1\u001b[0m\" \u001b[32m200 OK\u001b[0m\n",
            "\u001b[1;35mGot token from cookie\u001b[0m\n",
            "\u001b[32mINFO\u001b[0m:     115.242.248.226:0 - \"\u001b[1mGET /api/v1/workspaces HTTP/1.1\u001b[0m\" \u001b[32m200 OK\u001b[0m\n",
            "\u001b[1;35mGot token from cookie\u001b[0m\n",
            "\u001b[32mINFO\u001b[0m:     115.242.248.226:0 - \"\u001b[1mGET /api/v1/runs/319a2bf4-034a-40c6-90a0-3e50fa43c7e1/graph HTTP/1.1\u001b[0m\" \u001b[32m200 OK\u001b[0m\n",
            "\u001b[1;35mGot token from cookie\u001b[0m\n",
            "\u001b[32mINFO\u001b[0m:     115.242.248.226:0 - \"\u001b[1mGET /api/v1/run-metadata?pipeline_run_id=319a2bf4-034a-40c6-90a0-3e50fa43c7e1&key=orchestrator_url HTTP/1.1\u001b[0m\" \u001b[32m200 OK\u001b[0m\n"
          ]
        },
        {
          "output_type": "stream",
          "name": "stderr",
          "text": [
            "INFO:pyngrok.process.ngrok:t=2023-12-17T10:34:50+0000 lvl=info msg=\"join connections\" obj=join id=1275643e326e l=127.0.0.1:8237 r=115.242.248.226:34000\n"
          ]
        },
        {
          "output_type": "stream",
          "name": "stdout",
          "text": [
            "\u001b[1;35mGot token from cookie\u001b[0m\n",
            "\u001b[32mINFO\u001b[0m:     115.242.248.226:0 - \"\u001b[1mGET /api/v1/workspaces HTTP/1.1\u001b[0m\" \u001b[32m200 OK\u001b[0m\n",
            "\u001b[1;35mt=2023-12-17T10:34:50+0000 lvl=info msg=\"join connections\" obj=join id=1275643e326e l=127.0.0.1:8237 r=115.242.248.226:34000\u001b[0m\n",
            "\u001b[32mINFO\u001b[0m:     115.242.248.226:0 - \"\u001b[1mGET /api/v1/info HTTP/1.1\u001b[0m\" \u001b[32m200 OK\u001b[0m\n"
          ]
        },
        {
          "output_type": "stream",
          "name": "stderr",
          "text": [
            "INFO:pyngrok.process.ngrok:t=2023-12-17T10:34:50+0000 lvl=info msg=\"join connections\" obj=join id=b92c4178f041 l=127.0.0.1:8237 r=115.242.248.226:34000\n"
          ]
        },
        {
          "output_type": "stream",
          "name": "stdout",
          "text": [
            "\u001b[1;35mt=2023-12-17T10:34:50+0000 lvl=info msg=\"join connections\" obj=join id=b92c4178f041 l=127.0.0.1:8237 r=115.242.248.226:34000\u001b[0m\n",
            "\u001b[1;35mGot token from cookie\u001b[0m\n",
            "\u001b[32mINFO\u001b[0m:     115.242.248.226:0 - \"\u001b[1mGET /api/v1/runs/319a2bf4-034a-40c6-90a0-3e50fa43c7e1 HTTP/1.1\u001b[0m\" \u001b[32m200 OK\u001b[0m\n",
            "\u001b[1;35mGot token from cookie\u001b[0m\n",
            "\u001b[32mINFO\u001b[0m:     115.242.248.226:0 - \"\u001b[1mGET /api/v1/runs/319a2bf4-034a-40c6-90a0-3e50fa43c7e1/graph HTTP/1.1\u001b[0m\" \u001b[32m200 OK\u001b[0m\n",
            "\u001b[1;35mGot token from cookie\u001b[0m\n",
            "\u001b[32mINFO\u001b[0m:     115.242.248.226:0 - \"\u001b[1mGET /api/v1/run-metadata?pipeline_run_id=319a2bf4-034a-40c6-90a0-3e50fa43c7e1&key=orchestrator_url HTTP/1.1\u001b[0m\" \u001b[32m200 OK\u001b[0m\n"
          ]
        },
        {
          "output_type": "stream",
          "name": "stderr",
          "text": [
            "INFO:pyngrok.process.ngrok:t=2023-12-17T10:34:56+0000 lvl=info msg=\"join connections\" obj=join id=e7910f836395 l=127.0.0.1:8237 r=115.242.248.226:34000\n"
          ]
        },
        {
          "output_type": "stream",
          "name": "stdout",
          "text": [
            "\u001b[1;35mGot token from cookie\u001b[0m\n",
            "\u001b[32mINFO\u001b[0m:     115.242.248.226:0 - \"\u001b[1mGET /api/v1/workspaces HTTP/1.1\u001b[0m\" \u001b[32m200 OK\u001b[0m\n",
            "\u001b[1;35mt=2023-12-17T10:34:56+0000 lvl=info msg=\"join connections\" obj=join id=e7910f836395 l=127.0.0.1:8237 r=115.242.248.226:34000\u001b[0m\n"
          ]
        },
        {
          "output_type": "stream",
          "name": "stderr",
          "text": [
            "INFO:pyngrok.process.ngrok:t=2023-12-17T10:34:56+0000 lvl=info msg=\"join connections\" obj=join id=403cc9d01639 l=127.0.0.1:8237 r=115.242.248.226:34000\n"
          ]
        },
        {
          "output_type": "stream",
          "name": "stdout",
          "text": [
            "\u001b[1;35mt=2023-12-17T10:34:56+0000 lvl=info msg=\"join connections\" obj=join id=403cc9d01639 l=127.0.0.1:8237 r=115.242.248.226:34000\u001b[0m\n",
            "\u001b[1;35mGot token from cookie\u001b[0m\n",
            "\u001b[32mINFO\u001b[0m:     115.242.248.226:0 - \"\u001b[1mGET /api/v1/info HTTP/1.1\u001b[0m\" \u001b[32m200 OK\u001b[0m\n",
            "\u001b[32mINFO\u001b[0m:     115.242.248.226:0 - \"\u001b[1mGET /api/v1/runs/319a2bf4-034a-40c6-90a0-3e50fa43c7e1 HTTP/1.1\u001b[0m\" \u001b[32m200 OK\u001b[0m\n",
            "\u001b[1;35mGot token from cookie\u001b[0m\n",
            "\u001b[32mINFO\u001b[0m:     115.242.248.226:0 - \"\u001b[1mGET /api/v1/runs/319a2bf4-034a-40c6-90a0-3e50fa43c7e1/graph HTTP/1.1\u001b[0m\" \u001b[32m200 OK\u001b[0m\n",
            "\u001b[1;35mGot token from cookie\u001b[0m\n",
            "\u001b[32mINFO\u001b[0m:     115.242.248.226:0 - \"\u001b[1mGET /api/v1/run-metadata?pipeline_run_id=319a2bf4-034a-40c6-90a0-3e50fa43c7e1&key=orchestrator_url HTTP/1.1\u001b[0m\" \u001b[32m200 OK\u001b[0m\n"
          ]
        },
        {
          "output_type": "stream",
          "name": "stderr",
          "text": [
            "INFO:pyngrok.process.ngrok:t=2023-12-17T10:37:04+0000 lvl=info msg=\"received stop request\" obj=app stopReq=\"{err:<nil> restart:false}\"\n"
          ]
        },
        {
          "output_type": "stream",
          "name": "stdout",
          "text": [
            "\u001b[1;35mt=2023-12-17T10:37:04+0000 lvl=info msg=\"received stop request\" obj=app stopReq=\"{err:<nil> restart:false}\"\u001b[0m\n"
          ]
        },
        {
          "output_type": "stream",
          "name": "stderr",
          "text": [
            "INFO:pyngrok.process.ngrok:t=2023-12-17T10:37:04+0000 lvl=info msg=\"session closing\" obj=tunnels.session err=nil\n"
          ]
        },
        {
          "output_type": "stream",
          "name": "stdout",
          "text": [
            "\u001b[1;35mt=2023-12-17T10:37:04+0000 lvl=info msg=\"session closing\" obj=tunnels.session err=nil\u001b[0m\n",
            "\u001b[32mINFO\u001b[0m:     Shutting down\n",
            "\u001b[32mINFO\u001b[0m:     Finished server process [\u001b[36m1306\u001b[0m]\n",
            "\u001b[31mERROR\u001b[0m:    Traceback (most recent call last):\n",
            "  File \"/usr/local/lib/python3.10/dist-packages/starlette/routing.py\", line 686, in lifespan\n",
            "    await receive()\n",
            "  File \"/usr/local/lib/python3.10/dist-packages/uvicorn/lifespan/on.py\", line 137, in receive\n",
            "    return await self.receive_queue.get()\n",
            "  File \"/usr/lib/python3.10/asyncio/queues.py\", line 159, in get\n",
            "    await getter\n",
            "asyncio.exceptions.CancelledError\n",
            "\n"
          ]
        }
      ]
    },
    {
      "cell_type": "code",
      "source": [
        "# !pgrep -fl ngrok"
      ],
      "metadata": {
        "id": "IqsU5NDW_X9E"
      },
      "execution_count": 14,
      "outputs": []
    },
    {
      "cell_type": "code",
      "source": [
        "# !pkill ngrok"
      ],
      "metadata": {
        "id": "I0LkD8REEAeM"
      },
      "execution_count": null,
      "outputs": []
    },
    {
      "cell_type": "code",
      "source": [],
      "metadata": {
        "id": "GFyNzdFGEDCg"
      },
      "execution_count": null,
      "outputs": []
    }
  ]
}